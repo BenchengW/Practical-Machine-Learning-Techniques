{
 "cells": [
  {
   "cell_type": "markdown",
   "metadata": {},
   "source": [
    "# Class Imbalance Techniques\n",
    "\n"
   ]
  },
  {
   "cell_type": "code",
   "execution_count": 1,
   "metadata": {},
   "outputs": [],
   "source": [
    "import pandas as pd\n",
    "import numpy as np\n",
    "import sklearn\n",
    "import matplotlib.pyplot as plt\n",
    "\n",
    "from IPython.core.interactiveshell import InteractiveShell\n",
    "InteractiveShell.ast_node_interactivity = \"all\""
   ]
  },
  {
   "cell_type": "markdown",
   "metadata": {},
   "source": [
    "# Load Dataset\n",
    "\n",
    "The following dataset is a well-known imbalanced dataset from Kaggle:\n",
    "    https://www.kaggle.com/mlg-ulb/creditcardfraud/home?select=creditcard.csv"
   ]
  },
  {
   "cell_type": "code",
   "execution_count": 3,
   "metadata": {},
   "outputs": [
    {
     "data": {
      "text/html": [
       "<div>\n",
       "<style scoped>\n",
       "    .dataframe tbody tr th:only-of-type {\n",
       "        vertical-align: middle;\n",
       "    }\n",
       "\n",
       "    .dataframe tbody tr th {\n",
       "        vertical-align: top;\n",
       "    }\n",
       "\n",
       "    .dataframe thead th {\n",
       "        text-align: right;\n",
       "    }\n",
       "</style>\n",
       "<table border=\"1\" class=\"dataframe\">\n",
       "  <thead>\n",
       "    <tr style=\"text-align: right;\">\n",
       "      <th></th>\n",
       "      <th>Time</th>\n",
       "      <th>V1</th>\n",
       "      <th>V2</th>\n",
       "      <th>V3</th>\n",
       "      <th>V4</th>\n",
       "      <th>V5</th>\n",
       "      <th>V6</th>\n",
       "      <th>V7</th>\n",
       "      <th>V8</th>\n",
       "      <th>V9</th>\n",
       "      <th>...</th>\n",
       "      <th>V21</th>\n",
       "      <th>V22</th>\n",
       "      <th>V23</th>\n",
       "      <th>V24</th>\n",
       "      <th>V25</th>\n",
       "      <th>V26</th>\n",
       "      <th>V27</th>\n",
       "      <th>V28</th>\n",
       "      <th>Amount</th>\n",
       "      <th>Class</th>\n",
       "    </tr>\n",
       "  </thead>\n",
       "  <tbody>\n",
       "    <tr>\n",
       "      <th>0</th>\n",
       "      <td>0</td>\n",
       "      <td>-1.359807</td>\n",
       "      <td>-0.072781</td>\n",
       "      <td>2.536347</td>\n",
       "      <td>1.378155</td>\n",
       "      <td>-0.338321</td>\n",
       "      <td>0.462388</td>\n",
       "      <td>0.239599</td>\n",
       "      <td>0.098698</td>\n",
       "      <td>0.363787</td>\n",
       "      <td>...</td>\n",
       "      <td>-0.018307</td>\n",
       "      <td>0.277838</td>\n",
       "      <td>-0.110474</td>\n",
       "      <td>0.066928</td>\n",
       "      <td>0.128539</td>\n",
       "      <td>-0.189115</td>\n",
       "      <td>0.133558</td>\n",
       "      <td>-0.021053</td>\n",
       "      <td>149.62</td>\n",
       "      <td>0</td>\n",
       "    </tr>\n",
       "    <tr>\n",
       "      <th>1</th>\n",
       "      <td>0</td>\n",
       "      <td>1.191857</td>\n",
       "      <td>0.266151</td>\n",
       "      <td>0.166480</td>\n",
       "      <td>0.448154</td>\n",
       "      <td>0.060018</td>\n",
       "      <td>-0.082361</td>\n",
       "      <td>-0.078803</td>\n",
       "      <td>0.085102</td>\n",
       "      <td>-0.255425</td>\n",
       "      <td>...</td>\n",
       "      <td>-0.225775</td>\n",
       "      <td>-0.638672</td>\n",
       "      <td>0.101288</td>\n",
       "      <td>-0.339846</td>\n",
       "      <td>0.167170</td>\n",
       "      <td>0.125895</td>\n",
       "      <td>-0.008983</td>\n",
       "      <td>0.014724</td>\n",
       "      <td>2.69</td>\n",
       "      <td>0</td>\n",
       "    </tr>\n",
       "    <tr>\n",
       "      <th>2</th>\n",
       "      <td>1</td>\n",
       "      <td>-1.358354</td>\n",
       "      <td>-1.340163</td>\n",
       "      <td>1.773209</td>\n",
       "      <td>0.379780</td>\n",
       "      <td>-0.503198</td>\n",
       "      <td>1.800499</td>\n",
       "      <td>0.791461</td>\n",
       "      <td>0.247676</td>\n",
       "      <td>-1.514654</td>\n",
       "      <td>...</td>\n",
       "      <td>0.247998</td>\n",
       "      <td>0.771679</td>\n",
       "      <td>0.909412</td>\n",
       "      <td>-0.689281</td>\n",
       "      <td>-0.327642</td>\n",
       "      <td>-0.139097</td>\n",
       "      <td>-0.055353</td>\n",
       "      <td>-0.059752</td>\n",
       "      <td>378.66</td>\n",
       "      <td>0</td>\n",
       "    </tr>\n",
       "    <tr>\n",
       "      <th>3</th>\n",
       "      <td>1</td>\n",
       "      <td>-0.966272</td>\n",
       "      <td>-0.185226</td>\n",
       "      <td>1.792993</td>\n",
       "      <td>-0.863291</td>\n",
       "      <td>-0.010309</td>\n",
       "      <td>1.247203</td>\n",
       "      <td>0.237609</td>\n",
       "      <td>0.377436</td>\n",
       "      <td>-1.387024</td>\n",
       "      <td>...</td>\n",
       "      <td>-0.108300</td>\n",
       "      <td>0.005274</td>\n",
       "      <td>-0.190321</td>\n",
       "      <td>-1.175575</td>\n",
       "      <td>0.647376</td>\n",
       "      <td>-0.221929</td>\n",
       "      <td>0.062723</td>\n",
       "      <td>0.061458</td>\n",
       "      <td>123.50</td>\n",
       "      <td>0</td>\n",
       "    </tr>\n",
       "    <tr>\n",
       "      <th>4</th>\n",
       "      <td>2</td>\n",
       "      <td>-1.158233</td>\n",
       "      <td>0.877737</td>\n",
       "      <td>1.548718</td>\n",
       "      <td>0.403034</td>\n",
       "      <td>-0.407193</td>\n",
       "      <td>0.095921</td>\n",
       "      <td>0.592941</td>\n",
       "      <td>-0.270533</td>\n",
       "      <td>0.817739</td>\n",
       "      <td>...</td>\n",
       "      <td>-0.009431</td>\n",
       "      <td>0.798278</td>\n",
       "      <td>-0.137458</td>\n",
       "      <td>0.141267</td>\n",
       "      <td>-0.206010</td>\n",
       "      <td>0.502292</td>\n",
       "      <td>0.219422</td>\n",
       "      <td>0.215153</td>\n",
       "      <td>69.99</td>\n",
       "      <td>0</td>\n",
       "    </tr>\n",
       "  </tbody>\n",
       "</table>\n",
       "<p>5 rows × 31 columns</p>\n",
       "</div>"
      ],
      "text/plain": [
       "   Time        V1        V2        V3        V4        V5        V6        V7  \\\n",
       "0     0 -1.359807 -0.072781  2.536347  1.378155 -0.338321  0.462388  0.239599   \n",
       "1     0  1.191857  0.266151  0.166480  0.448154  0.060018 -0.082361 -0.078803   \n",
       "2     1 -1.358354 -1.340163  1.773209  0.379780 -0.503198  1.800499  0.791461   \n",
       "3     1 -0.966272 -0.185226  1.792993 -0.863291 -0.010309  1.247203  0.237609   \n",
       "4     2 -1.158233  0.877737  1.548718  0.403034 -0.407193  0.095921  0.592941   \n",
       "\n",
       "         V8        V9  ...       V21       V22       V23       V24       V25  \\\n",
       "0  0.098698  0.363787  ... -0.018307  0.277838 -0.110474  0.066928  0.128539   \n",
       "1  0.085102 -0.255425  ... -0.225775 -0.638672  0.101288 -0.339846  0.167170   \n",
       "2  0.247676 -1.514654  ...  0.247998  0.771679  0.909412 -0.689281 -0.327642   \n",
       "3  0.377436 -1.387024  ... -0.108300  0.005274 -0.190321 -1.175575  0.647376   \n",
       "4 -0.270533  0.817739  ... -0.009431  0.798278 -0.137458  0.141267 -0.206010   \n",
       "\n",
       "        V26       V27       V28  Amount  Class  \n",
       "0 -0.189115  0.133558 -0.021053  149.62      0  \n",
       "1  0.125895 -0.008983  0.014724    2.69      0  \n",
       "2 -0.139097 -0.055353 -0.059752  378.66      0  \n",
       "3 -0.221929  0.062723  0.061458  123.50      0  \n",
       "4  0.502292  0.219422  0.215153   69.99      0  \n",
       "\n",
       "[5 rows x 31 columns]"
      ]
     },
     "execution_count": 3,
     "metadata": {},
     "output_type": "execute_result"
    }
   ],
   "source": [
    "df = pd.read_csv('../data/creditcard_sample.csv')\n",
    "# df.info()\n",
    "df.head()"
   ]
  },
  {
   "cell_type": "markdown",
   "metadata": {},
   "source": [
    "Take a random sample, and then create X, y variables, and then split into training and testing."
   ]
  },
  {
   "cell_type": "code",
   "execution_count": 5,
   "metadata": {},
   "outputs": [],
   "source": [
    "from sklearn.model_selection import train_test_split\n",
    "\n",
    "X = df.drop(['Class'], axis=1)\n",
    "y = df['Class']\n",
    "X_train, X_test, y_train, y_test = train_test_split(X, y, test_size=0.2, stratify=y, random_state=42)"
   ]
  },
  {
   "cell_type": "code",
   "execution_count": 6,
   "metadata": {},
   "outputs": [
    {
     "data": {
      "text/plain": [
       "0    113707\n",
       "1       215\n",
       "Name: Class, dtype: int64"
      ]
     },
     "execution_count": 6,
     "metadata": {},
     "output_type": "execute_result"
    },
    {
     "data": {
      "text/plain": [
       "0    28427\n",
       "1       54\n",
       "Name: Class, dtype: int64"
      ]
     },
     "execution_count": 6,
     "metadata": {},
     "output_type": "execute_result"
    }
   ],
   "source": [
    "y_train.value_counts()\n",
    "y_test.value_counts()"
   ]
  },
  {
   "cell_type": "code",
   "execution_count": 8,
   "metadata": {},
   "outputs": [],
   "source": [
    "from sklearn.tree import DecisionTreeClassifier\n",
    "from sklearn.ensemble import RandomForestClassifier\n",
    "from sklearn.model_selection import GridSearchCV\n",
    "from sklearn.metrics import confusion_matrix, accuracy_score, f1_score, recall_score, precision_score, roc_auc_score\n",
    "\n",
    "# Helper function\n",
    "def quick_evaluate_with_dt(X_train, X_test, y_train, y_test, name, balance_weights=False):\n",
    "    \n",
    "    cw = None\n",
    "    if balance_weights == True:\n",
    "        cw = 'balanced'\n",
    "        \n",
    "    clf = DecisionTreeClassifier(random_state=0, class_weight=cw)\n",
    "    #clf = RandomForestClassifier(random_state=0, n_estimators=100, class_weight=cw)\n",
    "    \n",
    "    clf.fit(X_train, y_train)\n",
    "    y_pred = clf.predict(X_test)\n",
    "    \n",
    "    tn, fp, fn, tp = confusion_matrix(y_test, y_pred).ravel()\n",
    "    accuracy       = accuracy_score(y_test, y_pred)\n",
    "    f1             = f1_score(y_test, y_pred)\n",
    "    recall         = recall_score(y_test, y_pred)\n",
    "    precision      = precision_score(y_test, y_pred)\n",
    "    roc_auc        = roc_auc_score(y_test, y_pred)\n",
    "    \n",
    "    df = pd.DataFrame({\"Method\"    : [name],\n",
    "                       \"Neg\"       : [tn + fn],\n",
    "                       \"True Neg\"  : [tn],\n",
    "                       \"False Neg\" : [fn],\n",
    "                       \"Pos\"       : [tp + fp],\n",
    "                       \"TP\"        : [tp],\n",
    "                       \"FP\"        : [fp],\n",
    "                       \"Accuracy\"  : [accuracy],\n",
    "                       \"Recall\"    : [recall],\n",
    "                       \"Precision\" : [precision],\n",
    "                       \"F1\"        : [f1],\n",
    "                       \"AUC\"       : [roc_auc],\n",
    "                      })\n",
    "    \n",
    "    print(df)\n",
    "    return df\n",
    "\n",
    "# Sourced From: https://scikit-learn.org/stable/auto_examples/classification/plot_classifier_comparison.html\n",
    "def plot_roc(clf, Xf_test, Yf_test, name, ax, show_thresholds=False):\n",
    "    Yf_pred_rf = clf.predict_proba(Xf_test)[:, 1]\n",
    "    fpr, tpr, thr = roc_curve(Yf_test, Yf_pred_rf)\n",
    "\n",
    "    ax.plot([0, 1], [0, 1], 'k--');\n",
    "    ax.plot(fpr, tpr, label='{}, AUC={:.2f}'.format(name, auc(fpr, tpr)));\n",
    "    ax.scatter(fpr, tpr);\n",
    "\n",
    "    if show_thresholds:\n",
    "        for i, th in enumerate(thr):\n",
    "            ax.text(x=fpr[i], y=tpr[i], s=\"{:.2f}\".format(th), fontsize=14, \n",
    "                     horizontalalignment='left', verticalalignment='top', color='black',\n",
    "                     bbox=dict(facecolor='white', edgecolor='black', boxstyle='round,pad=0.1', alpha=0.1));\n",
    "        \n",
    "    ax.set_xlabel('False positive rate', fontsize=18);\n",
    "    ax.set_ylabel('True positive rate', fontsize=18);\n",
    "    ax.tick_params(axis='both', which='major', labelsize=18);\n",
    "    ax.grid(True);\n",
    "    ax.set_title('ROC Curve', fontsize=18)"
   ]
  },
  {
   "cell_type": "code",
   "execution_count": 9,
   "metadata": {},
   "outputs": [],
   "source": [
    "evals = list()"
   ]
  },
  {
   "cell_type": "code",
   "execution_count": 10,
   "metadata": {},
   "outputs": [
    {
     "data": {
      "text/plain": [
       "(113922, 30)"
      ]
     },
     "execution_count": 10,
     "metadata": {},
     "output_type": "execute_result"
    },
    {
     "data": {
      "text/plain": [
       "(113922,)"
      ]
     },
     "execution_count": 10,
     "metadata": {},
     "output_type": "execute_result"
    },
    {
     "data": {
      "text/plain": [
       "array([113707,    215], dtype=int64)"
      ]
     },
     "execution_count": 10,
     "metadata": {},
     "output_type": "execute_result"
    },
    {
     "name": "stdout",
     "output_type": "stream",
     "text": [
      "  Method    Neg  True Neg  False Neg  Pos  TP  FP  Accuracy    Recall  \\\n",
      "0   None  28429     28414         15   52  39  13  0.999017  0.722222   \n",
      "\n",
      "   Precision        F1       AUC  \n",
      "0       0.75  0.735849  0.860882  \n"
     ]
    }
   ],
   "source": [
    "X_train.shape\n",
    "y_train.shape\n",
    "np.bincount(y_train)\n",
    "\n",
    "evals.append(quick_evaluate_with_dt(X_train, X_test, y_train, y_test, 'None'))"
   ]
  },
  {
   "cell_type": "code",
   "execution_count": 11,
   "metadata": {},
   "outputs": [
    {
     "data": {
      "text/plain": [
       "(113922, 30)"
      ]
     },
     "execution_count": 11,
     "metadata": {},
     "output_type": "execute_result"
    },
    {
     "data": {
      "text/plain": [
       "(113922,)"
      ]
     },
     "execution_count": 11,
     "metadata": {},
     "output_type": "execute_result"
    },
    {
     "data": {
      "text/plain": [
       "array([113707,    215], dtype=int64)"
      ]
     },
     "execution_count": 11,
     "metadata": {},
     "output_type": "execute_result"
    },
    {
     "name": "stdout",
     "output_type": "stream",
     "text": [
      "          Method    Neg  True Neg  False Neg  Pos  TP  FP  Accuracy    Recall  \\\n",
      "0  Class Weights  28431     28416         15   50  39  11  0.999087  0.722222   \n",
      "\n",
      "   Precision    F1       AUC  \n",
      "0       0.78  0.75  0.860918  \n"
     ]
    }
   ],
   "source": [
    "X_train.shape\n",
    "y_train.shape\n",
    "np.bincount(y_train)\n",
    "\n",
    "evals.append(quick_evaluate_with_dt(X_train, X_test, y_train, y_test, 'Class Weights', balance_weights=True))"
   ]
  },
  {
   "cell_type": "code",
   "execution_count": 12,
   "metadata": {},
   "outputs": [
    {
     "data": {
      "text/plain": [
       "(227414, 30)"
      ]
     },
     "execution_count": 12,
     "metadata": {},
     "output_type": "execute_result"
    },
    {
     "data": {
      "text/plain": [
       "(227414,)"
      ]
     },
     "execution_count": 12,
     "metadata": {},
     "output_type": "execute_result"
    },
    {
     "data": {
      "text/plain": [
       "array([113707, 113707], dtype=int64)"
      ]
     },
     "execution_count": 12,
     "metadata": {},
     "output_type": "execute_result"
    },
    {
     "name": "stdout",
     "output_type": "stream",
     "text": [
      "        Method    Neg  True Neg  False Neg  Pos  TP  FP  Accuracy    Recall  \\\n",
      "0  Over Random  28433     28418         15   48  39   9  0.999157  0.722222   \n",
      "\n",
      "   Precision        F1       AUC  \n",
      "0     0.8125  0.764706  0.860953  \n"
     ]
    }
   ],
   "source": [
    "from imblearn.over_sampling import RandomOverSampler\n",
    "\n",
    "ros = RandomOverSampler(random_state=0)\n",
    "\n",
    "X_resampled, y_resampled = ros.fit_resample(X_train, y_train)\n",
    "X_resampled.shape\n",
    "y_resampled.shape\n",
    "np.bincount(y_resampled)\n",
    "\n",
    "evals.append(quick_evaluate_with_dt(X_resampled, X_test, y_resampled, y_test, 'Over Random'))"
   ]
  },
  {
   "cell_type": "code",
   "execution_count": 13,
   "metadata": {},
   "outputs": [
    {
     "data": {
      "text/plain": [
       "(227414, 30)"
      ]
     },
     "execution_count": 13,
     "metadata": {},
     "output_type": "execute_result"
    },
    {
     "data": {
      "text/plain": [
       "(227414,)"
      ]
     },
     "execution_count": 13,
     "metadata": {},
     "output_type": "execute_result"
    },
    {
     "data": {
      "text/plain": [
       "array([113707, 113707], dtype=int64)"
      ]
     },
     "execution_count": 13,
     "metadata": {},
     "output_type": "execute_result"
    },
    {
     "name": "stdout",
     "output_type": "stream",
     "text": [
      "       Method    Neg  True Neg  False Neg  Pos  TP  FP  Accuracy    Recall  \\\n",
      "0  Over SMOTE  28399     28386         13   82  41  41  0.998104  0.759259   \n",
      "\n",
      "   Precision        F1       AUC  \n",
      "0        0.5  0.602941  0.878908  \n"
     ]
    }
   ],
   "source": [
    "from imblearn.over_sampling import SMOTE\n",
    "\n",
    "X_resampled, y_resampled = SMOTE(random_state=0).fit_resample(X_train, y_train)\n",
    "\n",
    "X_resampled.shape\n",
    "y_resampled.shape\n",
    "np.bincount(y_resampled)\n",
    "\n",
    "evals.append(quick_evaluate_with_dt(X_resampled, X_test, y_resampled, y_test, 'Over SMOTE'))"
   ]
  },
  {
   "cell_type": "code",
   "execution_count": 14,
   "metadata": {},
   "outputs": [
    {
     "data": {
      "text/plain": [
       "(227369, 30)"
      ]
     },
     "execution_count": 14,
     "metadata": {},
     "output_type": "execute_result"
    },
    {
     "data": {
      "text/plain": [
       "(227369,)"
      ]
     },
     "execution_count": 14,
     "metadata": {},
     "output_type": "execute_result"
    },
    {
     "data": {
      "text/plain": [
       "array([113707, 113662], dtype=int64)"
      ]
     },
     "execution_count": 14,
     "metadata": {},
     "output_type": "execute_result"
    },
    {
     "name": "stdout",
     "output_type": "stream",
     "text": [
      "        Method    Neg  True Neg  False Neg  Pos  TP  FP  Accuracy    Recall  \\\n",
      "0  Over ADASYN  28398     28382         16   83  38  45  0.997858  0.703704   \n",
      "\n",
      "   Precision        F1      AUC  \n",
      "0   0.457831  0.554745  0.85106  \n"
     ]
    }
   ],
   "source": [
    "from imblearn.over_sampling import ADASYN\n",
    "\n",
    "X_resampled, y_resampled = ADASYN(random_state=0).fit_resample(X_train, y_train)\n",
    "\n",
    "X_resampled.shape\n",
    "y_resampled.shape\n",
    "np.bincount(y_resampled)\n",
    "\n",
    "evals.append(quick_evaluate_with_dt(X_resampled, X_test, y_resampled, y_test,  'Over ADASYN'))"
   ]
  },
  {
   "cell_type": "code",
   "execution_count": 15,
   "metadata": {},
   "outputs": [
    {
     "data": {
      "text/plain": [
       "(430, 30)"
      ]
     },
     "execution_count": 15,
     "metadata": {},
     "output_type": "execute_result"
    },
    {
     "data": {
      "text/plain": [
       "(430,)"
      ]
     },
     "execution_count": 15,
     "metadata": {},
     "output_type": "execute_result"
    },
    {
     "data": {
      "text/plain": [
       "array([215, 215], dtype=int64)"
      ]
     },
     "execution_count": 15,
     "metadata": {},
     "output_type": "execute_result"
    },
    {
     "name": "stdout",
     "output_type": "stream",
     "text": [
      "         Method    Neg  True Neg  False Neg   Pos  TP    FP  Accuracy  \\\n",
      "0  Under Sample  25520     25515          5  2961  49  2912  0.897581   \n",
      "\n",
      "     Recall  Precision        F1       AUC  \n",
      "0  0.907407   0.016548  0.032504  0.902485  \n"
     ]
    }
   ],
   "source": [
    "from imblearn.under_sampling import RandomUnderSampler\n",
    "\n",
    "rus = RandomUnderSampler(random_state=0)\n",
    "X_resampled, y_resampled = rus.fit_resample(X_train, y_train)\n",
    "\n",
    "X_resampled.shape\n",
    "y_resampled.shape\n",
    "np.bincount(y_resampled)\n",
    "\n",
    "evals.append(quick_evaluate_with_dt(X_resampled, X_test, y_resampled, y_test,  'Under Sample'))"
   ]
  },
  {
   "cell_type": "code",
   "execution_count": 16,
   "metadata": {},
   "outputs": [
    {
     "data": {
      "text/plain": [
       "0    28427\n",
       "1       54\n",
       "Name: Class, dtype: int64"
      ]
     },
     "execution_count": 16,
     "metadata": {},
     "output_type": "execute_result"
    },
    {
     "data": {
      "text/html": [
       "<div>\n",
       "<style scoped>\n",
       "    .dataframe tbody tr th:only-of-type {\n",
       "        vertical-align: middle;\n",
       "    }\n",
       "\n",
       "    .dataframe tbody tr th {\n",
       "        vertical-align: top;\n",
       "    }\n",
       "\n",
       "    .dataframe thead th {\n",
       "        text-align: right;\n",
       "    }\n",
       "</style>\n",
       "<table border=\"1\" class=\"dataframe\">\n",
       "  <thead>\n",
       "    <tr style=\"text-align: right;\">\n",
       "      <th></th>\n",
       "      <th>Method</th>\n",
       "      <th>Neg</th>\n",
       "      <th>True Neg</th>\n",
       "      <th>False Neg</th>\n",
       "      <th>Pos</th>\n",
       "      <th>TP</th>\n",
       "      <th>FP</th>\n",
       "      <th>Accuracy</th>\n",
       "      <th>Recall</th>\n",
       "      <th>Precision</th>\n",
       "      <th>F1</th>\n",
       "      <th>AUC</th>\n",
       "    </tr>\n",
       "  </thead>\n",
       "  <tbody>\n",
       "    <tr>\n",
       "      <th>2</th>\n",
       "      <td>Over Random</td>\n",
       "      <td>28433</td>\n",
       "      <td>28418</td>\n",
       "      <td>15</td>\n",
       "      <td>48</td>\n",
       "      <td>39</td>\n",
       "      <td>9</td>\n",
       "      <td>0.999157</td>\n",
       "      <td>0.722222</td>\n",
       "      <td>0.812500</td>\n",
       "      <td>0.764706</td>\n",
       "      <td>0.860953</td>\n",
       "    </tr>\n",
       "    <tr>\n",
       "      <th>1</th>\n",
       "      <td>Class Weights</td>\n",
       "      <td>28431</td>\n",
       "      <td>28416</td>\n",
       "      <td>15</td>\n",
       "      <td>50</td>\n",
       "      <td>39</td>\n",
       "      <td>11</td>\n",
       "      <td>0.999087</td>\n",
       "      <td>0.722222</td>\n",
       "      <td>0.780000</td>\n",
       "      <td>0.750000</td>\n",
       "      <td>0.860918</td>\n",
       "    </tr>\n",
       "    <tr>\n",
       "      <th>0</th>\n",
       "      <td>None</td>\n",
       "      <td>28429</td>\n",
       "      <td>28414</td>\n",
       "      <td>15</td>\n",
       "      <td>52</td>\n",
       "      <td>39</td>\n",
       "      <td>13</td>\n",
       "      <td>0.999017</td>\n",
       "      <td>0.722222</td>\n",
       "      <td>0.750000</td>\n",
       "      <td>0.735849</td>\n",
       "      <td>0.860882</td>\n",
       "    </tr>\n",
       "    <tr>\n",
       "      <th>3</th>\n",
       "      <td>Over SMOTE</td>\n",
       "      <td>28399</td>\n",
       "      <td>28386</td>\n",
       "      <td>13</td>\n",
       "      <td>82</td>\n",
       "      <td>41</td>\n",
       "      <td>41</td>\n",
       "      <td>0.998104</td>\n",
       "      <td>0.759259</td>\n",
       "      <td>0.500000</td>\n",
       "      <td>0.602941</td>\n",
       "      <td>0.878908</td>\n",
       "    </tr>\n",
       "    <tr>\n",
       "      <th>4</th>\n",
       "      <td>Over ADASYN</td>\n",
       "      <td>28398</td>\n",
       "      <td>28382</td>\n",
       "      <td>16</td>\n",
       "      <td>83</td>\n",
       "      <td>38</td>\n",
       "      <td>45</td>\n",
       "      <td>0.997858</td>\n",
       "      <td>0.703704</td>\n",
       "      <td>0.457831</td>\n",
       "      <td>0.554745</td>\n",
       "      <td>0.851060</td>\n",
       "    </tr>\n",
       "    <tr>\n",
       "      <th>5</th>\n",
       "      <td>Under Sample</td>\n",
       "      <td>25520</td>\n",
       "      <td>25515</td>\n",
       "      <td>5</td>\n",
       "      <td>2961</td>\n",
       "      <td>49</td>\n",
       "      <td>2912</td>\n",
       "      <td>0.897581</td>\n",
       "      <td>0.907407</td>\n",
       "      <td>0.016548</td>\n",
       "      <td>0.032504</td>\n",
       "      <td>0.902485</td>\n",
       "    </tr>\n",
       "  </tbody>\n",
       "</table>\n",
       "</div>"
      ],
      "text/plain": [
       "          Method    Neg  True Neg  False Neg   Pos  TP    FP  Accuracy  \\\n",
       "2    Over Random  28433     28418         15    48  39     9  0.999157   \n",
       "1  Class Weights  28431     28416         15    50  39    11  0.999087   \n",
       "0           None  28429     28414         15    52  39    13  0.999017   \n",
       "3     Over SMOTE  28399     28386         13    82  41    41  0.998104   \n",
       "4    Over ADASYN  28398     28382         16    83  38    45  0.997858   \n",
       "5   Under Sample  25520     25515          5  2961  49  2912  0.897581   \n",
       "\n",
       "     Recall  Precision        F1       AUC  \n",
       "2  0.722222   0.812500  0.764706  0.860953  \n",
       "1  0.722222   0.780000  0.750000  0.860918  \n",
       "0  0.722222   0.750000  0.735849  0.860882  \n",
       "3  0.759259   0.500000  0.602941  0.878908  \n",
       "4  0.703704   0.457831  0.554745  0.851060  \n",
       "5  0.907407   0.016548  0.032504  0.902485  "
      ]
     },
     "execution_count": 16,
     "metadata": {},
     "output_type": "execute_result"
    }
   ],
   "source": [
    "# Recall the actual distrition of the truth labels of the testing set.\n",
    "y_test.value_counts()\n",
    "\n",
    "evals_all = pd.concat([m for m in evals], axis = 0).reset_index()\n",
    "\n",
    "evals_all = evals_all.drop(columns = \"index\",axis =1)\n",
    "evals_all.sort_values(by=['F1'], ascending=False)"
   ]
  },
  {
   "cell_type": "code",
   "execution_count": 4,
   "metadata": {},
   "outputs": [
    {
     "ename": "NameError",
     "evalue": "name 'plot_roc' is not defined",
     "output_type": "error",
     "traceback": [
      "\u001b[1;31m---------------------------------------------------------------------------\u001b[0m",
      "\u001b[1;31mNameError\u001b[0m                                 Traceback (most recent call last)",
      "\u001b[1;32m<ipython-input-4-72cdfd95e3ec>\u001b[0m in \u001b[0;36m<module>\u001b[1;34m\u001b[0m\n\u001b[0;32m      4\u001b[0m \u001b[0mfigure\u001b[0m \u001b[1;33m=\u001b[0m \u001b[0mplt\u001b[0m\u001b[1;33m.\u001b[0m\u001b[0mfigure\u001b[0m\u001b[1;33m(\u001b[0m\u001b[0mfigsize\u001b[0m\u001b[1;33m=\u001b[0m\u001b[1;33m(\u001b[0m\u001b[1;36m10\u001b[0m\u001b[1;33m,\u001b[0m \u001b[1;36m6\u001b[0m\u001b[1;33m)\u001b[0m\u001b[1;33m)\u001b[0m\u001b[1;33m;\u001b[0m\u001b[1;33m\u001b[0m\u001b[1;33m\u001b[0m\u001b[0m\n\u001b[0;32m      5\u001b[0m \u001b[0max\u001b[0m \u001b[1;33m=\u001b[0m \u001b[0mplt\u001b[0m\u001b[1;33m.\u001b[0m\u001b[0msubplot\u001b[0m\u001b[1;33m(\u001b[0m\u001b[1;36m1\u001b[0m\u001b[1;33m,\u001b[0m \u001b[1;36m1\u001b[0m\u001b[1;33m,\u001b[0m \u001b[1;36m1\u001b[0m\u001b[1;33m)\u001b[0m\u001b[1;33m;\u001b[0m\u001b[1;33m\u001b[0m\u001b[1;33m\u001b[0m\u001b[0m\n\u001b[1;32m----> 6\u001b[1;33m \u001b[0mplot_roc\u001b[0m\u001b[1;33m(\u001b[0m\u001b[0mclf_dt\u001b[0m\u001b[1;33m,\u001b[0m \u001b[0mXf_test\u001b[0m\u001b[1;33m,\u001b[0m \u001b[0mYf_test\u001b[0m\u001b[1;33m,\u001b[0m \u001b[1;34m\"Decision Tree Test\"\u001b[0m\u001b[1;33m,\u001b[0m \u001b[0max\u001b[0m\u001b[1;33m)\u001b[0m\u001b[1;33m\u001b[0m\u001b[1;33m\u001b[0m\u001b[0m\n\u001b[0m\u001b[0;32m      7\u001b[0m \u001b[0mplot_roc\u001b[0m\u001b[1;33m(\u001b[0m\u001b[0mclf_rf\u001b[0m\u001b[1;33m,\u001b[0m \u001b[0mXf_test\u001b[0m\u001b[1;33m,\u001b[0m \u001b[0mYf_test\u001b[0m\u001b[1;33m,\u001b[0m \u001b[1;34m\"Random Forest Test\"\u001b[0m\u001b[1;33m,\u001b[0m \u001b[0max\u001b[0m\u001b[1;33m)\u001b[0m\u001b[1;33m\u001b[0m\u001b[1;33m\u001b[0m\u001b[0m\n\u001b[0;32m      8\u001b[0m \u001b[0mplot_roc\u001b[0m\u001b[1;33m(\u001b[0m\u001b[0mclf_nb\u001b[0m\u001b[1;33m,\u001b[0m \u001b[0mXf_test\u001b[0m\u001b[1;33m,\u001b[0m \u001b[0mYf_test\u001b[0m\u001b[1;33m,\u001b[0m \u001b[1;34m\"Naive Bayes Test\"\u001b[0m\u001b[1;33m,\u001b[0m \u001b[0max\u001b[0m\u001b[1;33m)\u001b[0m\u001b[1;33m\u001b[0m\u001b[1;33m\u001b[0m\u001b[0m\n",
      "\u001b[1;31mNameError\u001b[0m: name 'plot_roc' is not defined"
     ]
    },
    {
     "data": {
      "image/png": "[encoded data removed]",
      "text/plain": [
       "<Figure size 1000x600 with 1 Axes>"
      ]
     },
     "metadata": {},
     "output_type": "display_data"
    }
   ],
   "source": [
    "# Print Comparative ROC Curves for Each Model (Training)w/ AUC Score\n",
    "\n",
    "plt.style.use('default');\n",
    "figure = plt.figure(figsize=(10, 6));    \n",
    "ax = plt.subplot(1, 1, 1);\n",
    "plot_roc(clf_dt, Xf_test, Yf_test, \"Decision Tree Test\", ax)\n",
    "plot_roc(clf_rf, Xf_test, Yf_test, \"Random Forest Test\", ax)\n",
    "plot_roc(clf_nb, Xf_test, Yf_test, \"Naive Bayes Test\", ax)\n",
    "plot_roc(clf_xgb, Xf_test, Yf_test, \"XG Boost Test\", ax)\n",
    "plot_roc(clf_lr, Xf_test, Yf_test, \"Logistic Regression Test\", ax)\n",
    "plt.legend(loc='lower right', fontsize=18);\n",
    "plt.tight_layout();"
   ]
  },
  {
   "cell_type": "markdown",
   "metadata": {},
   "source": [
    "# Another Dataset\n",
    "\n",
    "The dataset is also imbalanced, although less so. It comes from:\n",
    "\n",
    "https://www.kaggle.com/uciml/pima-indians-diabetes-database"
   ]
  },
  {
   "cell_type": "code",
   "execution_count": 10,
   "metadata": {},
   "outputs": [
    {
     "name": "stdout",
     "output_type": "stream",
     "text": [
      "<class 'pandas.core.frame.DataFrame'>\n",
      "RangeIndex: 768 entries, 0 to 767\n",
      "Data columns (total 10 columns):\n",
      " #   Column              Non-Null Count  Dtype  \n",
      "---  ------              --------------  -----  \n",
      " 0   Id                  768 non-null    int64  \n",
      " 1   num_times_pregnant  768 non-null    int64  \n",
      " 2   plasma_glucose      768 non-null    int64  \n",
      " 3   DBP                 768 non-null    int64  \n",
      " 4   triceps_skin        768 non-null    int64  \n",
      " 5   serum_insulin       768 non-null    int64  \n",
      " 6   BMI                 768 non-null    float64\n",
      " 7   pedigree            768 non-null    float64\n",
      " 8   age                 768 non-null    int64  \n",
      " 9   diabetes            768 non-null    int64  \n",
      "dtypes: float64(2), int64(8)\n",
      "memory usage: 60.1 KB\n"
     ]
    },
    {
     "data": {
      "text/html": [
       "<div>\n",
       "<style scoped>\n",
       "    .dataframe tbody tr th:only-of-type {\n",
       "        vertical-align: middle;\n",
       "    }\n",
       "\n",
       "    .dataframe tbody tr th {\n",
       "        vertical-align: top;\n",
       "    }\n",
       "\n",
       "    .dataframe thead th {\n",
       "        text-align: right;\n",
       "    }\n",
       "</style>\n",
       "<table border=\"1\" class=\"dataframe\">\n",
       "  <thead>\n",
       "    <tr style=\"text-align: right;\">\n",
       "      <th></th>\n",
       "      <th>Id</th>\n",
       "      <th>num_times_pregnant</th>\n",
       "      <th>plasma_glucose</th>\n",
       "      <th>DBP</th>\n",
       "      <th>triceps_skin</th>\n",
       "      <th>serum_insulin</th>\n",
       "      <th>BMI</th>\n",
       "      <th>pedigree</th>\n",
       "      <th>age</th>\n",
       "      <th>diabetes</th>\n",
       "    </tr>\n",
       "  </thead>\n",
       "  <tbody>\n",
       "    <tr>\n",
       "      <th>0</th>\n",
       "      <td>1</td>\n",
       "      <td>6</td>\n",
       "      <td>148</td>\n",
       "      <td>72</td>\n",
       "      <td>35</td>\n",
       "      <td>0</td>\n",
       "      <td>33.6</td>\n",
       "      <td>0.627</td>\n",
       "      <td>50</td>\n",
       "      <td>1</td>\n",
       "    </tr>\n",
       "    <tr>\n",
       "      <th>1</th>\n",
       "      <td>2</td>\n",
       "      <td>1</td>\n",
       "      <td>85</td>\n",
       "      <td>66</td>\n",
       "      <td>29</td>\n",
       "      <td>0</td>\n",
       "      <td>26.6</td>\n",
       "      <td>0.351</td>\n",
       "      <td>31</td>\n",
       "      <td>0</td>\n",
       "    </tr>\n",
       "    <tr>\n",
       "      <th>2</th>\n",
       "      <td>3</td>\n",
       "      <td>8</td>\n",
       "      <td>183</td>\n",
       "      <td>64</td>\n",
       "      <td>0</td>\n",
       "      <td>0</td>\n",
       "      <td>23.3</td>\n",
       "      <td>0.672</td>\n",
       "      <td>32</td>\n",
       "      <td>1</td>\n",
       "    </tr>\n",
       "    <tr>\n",
       "      <th>3</th>\n",
       "      <td>4</td>\n",
       "      <td>1</td>\n",
       "      <td>89</td>\n",
       "      <td>66</td>\n",
       "      <td>23</td>\n",
       "      <td>94</td>\n",
       "      <td>28.1</td>\n",
       "      <td>0.167</td>\n",
       "      <td>21</td>\n",
       "      <td>0</td>\n",
       "    </tr>\n",
       "    <tr>\n",
       "      <th>4</th>\n",
       "      <td>5</td>\n",
       "      <td>0</td>\n",
       "      <td>137</td>\n",
       "      <td>40</td>\n",
       "      <td>35</td>\n",
       "      <td>168</td>\n",
       "      <td>43.1</td>\n",
       "      <td>2.288</td>\n",
       "      <td>33</td>\n",
       "      <td>1</td>\n",
       "    </tr>\n",
       "  </tbody>\n",
       "</table>\n",
       "</div>"
      ],
      "text/plain": [
       "   Id  num_times_pregnant  plasma_glucose  DBP  triceps_skin  serum_insulin  \\\n",
       "0   1                   6             148   72            35              0   \n",
       "1   2                   1              85   66            29              0   \n",
       "2   3                   8             183   64             0              0   \n",
       "3   4                   1              89   66            23             94   \n",
       "4   5                   0             137   40            35            168   \n",
       "\n",
       "    BMI  pedigree  age  diabetes  \n",
       "0  33.6     0.627   50         1  \n",
       "1  26.6     0.351   31         0  \n",
       "2  23.3     0.672   32         1  \n",
       "3  28.1     0.167   21         0  \n",
       "4  43.1     2.288   33         1  "
      ]
     },
     "execution_count": 10,
     "metadata": {},
     "output_type": "execute_result"
    }
   ],
   "source": [
    "df_d = pd.read_csv('../data/diabetes_orig.csv')\n",
    "df_d.info()\n",
    "df_d.head()\n",
    "\n",
    "X = df_d.drop(['Id', 'diabetes'], axis=1)\n",
    "y = df_d['diabetes']\n",
    "X_train, X_test, y_train, y_test = train_test_split(X, y, test_size=0.2, stratify=y, random_state=44)"
   ]
  },
  {
   "cell_type": "code",
   "execution_count": 11,
   "metadata": {},
   "outputs": [
    {
     "data": {
      "text/plain": [
       "0    400\n",
       "1    214\n",
       "Name: diabetes, dtype: int64"
      ]
     },
     "execution_count": 11,
     "metadata": {},
     "output_type": "execute_result"
    },
    {
     "data": {
      "text/plain": [
       "0    100\n",
       "1     54\n",
       "Name: diabetes, dtype: int64"
      ]
     },
     "execution_count": 11,
     "metadata": {},
     "output_type": "execute_result"
    }
   ],
   "source": [
    "y_train.value_counts()\n",
    "y_test.value_counts()"
   ]
  },
  {
   "cell_type": "code",
   "execution_count": 12,
   "metadata": {},
   "outputs": [],
   "source": [
    "evals_d = list()"
   ]
  },
  {
   "cell_type": "code",
   "execution_count": 13,
   "metadata": {},
   "outputs": [
    {
     "data": {
      "text/plain": [
       "(614, 8)"
      ]
     },
     "execution_count": 13,
     "metadata": {},
     "output_type": "execute_result"
    },
    {
     "data": {
      "text/plain": [
       "(614,)"
      ]
     },
     "execution_count": 13,
     "metadata": {},
     "output_type": "execute_result"
    },
    {
     "data": {
      "text/plain": [
       "array([400, 214], dtype=int64)"
      ]
     },
     "execution_count": 13,
     "metadata": {},
     "output_type": "execute_result"
    },
    {
     "name": "stdout",
     "output_type": "stream",
     "text": [
      "  Method  Neg  True Neg  False Neg  Pos  TP  FP  Accuracy    Recall  \\\n",
      "0   None  116        88         28   38  26  12   0.74026  0.481481   \n",
      "\n",
      "   Precision        F1       AUC  \n",
      "0   0.684211  0.565217  0.680741  \n"
     ]
    }
   ],
   "source": [
    "X_train.shape\n",
    "y_train.shape\n",
    "np.bincount(y_train)\n",
    "\n",
    "evals_d.append(quick_evaluate_with_dt(X_train, X_test, y_train, y_test, 'None'))"
   ]
  },
  {
   "cell_type": "code",
   "execution_count": 14,
   "metadata": {},
   "outputs": [
    {
     "data": {
      "text/plain": [
       "(614, 8)"
      ]
     },
     "execution_count": 14,
     "metadata": {},
     "output_type": "execute_result"
    },
    {
     "data": {
      "text/plain": [
       "(614,)"
      ]
     },
     "execution_count": 14,
     "metadata": {},
     "output_type": "execute_result"
    },
    {
     "data": {
      "text/plain": [
       "array([400, 214], dtype=int64)"
      ]
     },
     "execution_count": 14,
     "metadata": {},
     "output_type": "execute_result"
    },
    {
     "name": "stdout",
     "output_type": "stream",
     "text": [
      "          Method  Neg  True Neg  False Neg  Pos  TP  FP  Accuracy    Recall  \\\n",
      "0  Class Weights  116        88         28   38  26  12   0.74026  0.481481   \n",
      "\n",
      "   Precision        F1       AUC  \n",
      "0   0.684211  0.565217  0.680741  \n"
     ]
    }
   ],
   "source": [
    "X_train.shape\n",
    "y_train.shape\n",
    "np.bincount(y_train)\n",
    "\n",
    "evals_d.append(quick_evaluate_with_dt(X_train, X_test, y_train, y_test, 'Class Weights', balance_weights=True))"
   ]
  },
  {
   "cell_type": "code",
   "execution_count": 15,
   "metadata": {},
   "outputs": [
    {
     "data": {
      "text/plain": [
       "(800, 8)"
      ]
     },
     "execution_count": 15,
     "metadata": {},
     "output_type": "execute_result"
    },
    {
     "data": {
      "text/plain": [
       "(800,)"
      ]
     },
     "execution_count": 15,
     "metadata": {},
     "output_type": "execute_result"
    },
    {
     "data": {
      "text/plain": [
       "array([400, 400], dtype=int64)"
      ]
     },
     "execution_count": 15,
     "metadata": {},
     "output_type": "execute_result"
    },
    {
     "name": "stdout",
     "output_type": "stream",
     "text": [
      "        Method  Neg  True Neg  False Neg  Pos  TP  FP  Accuracy    Recall  \\\n",
      "0  Over Random  110        86         24   44  30  14  0.753247  0.555556   \n",
      "\n",
      "   Precision        F1       AUC  \n",
      "0   0.681818  0.612245  0.707778  \n"
     ]
    }
   ],
   "source": [
    "from imblearn.over_sampling import RandomOverSampler\n",
    "\n",
    "ros = RandomOverSampler(random_state=0)\n",
    "\n",
    "X_resampled, y_resampled = ros.fit_resample(X_train, y_train)\n",
    "X_resampled.shape\n",
    "y_resampled.shape\n",
    "np.bincount(y_resampled)\n",
    "\n",
    "evals_d.append(quick_evaluate_with_dt(X_resampled, X_test, y_resampled, y_test, 'Over Random'))"
   ]
  },
  {
   "cell_type": "code",
   "execution_count": 16,
   "metadata": {},
   "outputs": [
    {
     "data": {
      "text/plain": [
       "(800, 8)"
      ]
     },
     "execution_count": 16,
     "metadata": {},
     "output_type": "execute_result"
    },
    {
     "data": {
      "text/plain": [
       "(800,)"
      ]
     },
     "execution_count": 16,
     "metadata": {},
     "output_type": "execute_result"
    },
    {
     "data": {
      "text/plain": [
       "array([400, 400], dtype=int64)"
      ]
     },
     "execution_count": 16,
     "metadata": {},
     "output_type": "execute_result"
    },
    {
     "name": "stdout",
     "output_type": "stream",
     "text": [
      "       Method  Neg  True Neg  False Neg  Pos  TP  FP  Accuracy    Recall  \\\n",
      "0  Over SMOTE  107        84         23   47  31  16  0.746753  0.574074   \n",
      "\n",
      "   Precision        F1       AUC  \n",
      "0   0.659574  0.613861  0.707037  \n"
     ]
    }
   ],
   "source": [
    "from imblearn.over_sampling import SMOTE\n",
    "\n",
    "X_resampled, y_resampled = SMOTE(random_state=0).fit_resample(X_train, y_train)\n",
    "\n",
    "X_resampled.shape\n",
    "y_resampled.shape\n",
    "np.bincount(y_resampled)\n",
    "\n",
    "evals_d.append(quick_evaluate_with_dt(X_resampled, X_test, y_resampled, y_test, 'Over SMOTE'))"
   ]
  },
  {
   "cell_type": "code",
   "execution_count": 17,
   "metadata": {},
   "outputs": [
    {
     "data": {
      "text/plain": [
       "(775, 8)"
      ]
     },
     "execution_count": 17,
     "metadata": {},
     "output_type": "execute_result"
    },
    {
     "data": {
      "text/plain": [
       "(775,)"
      ]
     },
     "execution_count": 17,
     "metadata": {},
     "output_type": "execute_result"
    },
    {
     "data": {
      "text/plain": [
       "array([400, 375], dtype=int64)"
      ]
     },
     "execution_count": 17,
     "metadata": {},
     "output_type": "execute_result"
    },
    {
     "name": "stdout",
     "output_type": "stream",
     "text": [
      "        Method  Neg  True Neg  False Neg  Pos  TP  FP  Accuracy   Recall  \\\n",
      "0  Over ADASYN  101        81         20   53  34  19  0.746753  0.62963   \n",
      "\n",
      "   Precision        F1       AUC  \n",
      "0   0.641509  0.635514  0.719815  \n"
     ]
    }
   ],
   "source": [
    "from imblearn.over_sampling import ADASYN\n",
    "\n",
    "X_resampled, y_resampled = ADASYN(random_state=0).fit_resample(X_train, y_train)\n",
    "\n",
    "X_resampled.shape\n",
    "y_resampled.shape\n",
    "np.bincount(y_resampled)\n",
    "\n",
    "evals_d.append(quick_evaluate_with_dt(X_resampled, X_test, y_resampled, y_test,  'Over ADASYN'))"
   ]
  },
  {
   "cell_type": "code",
   "execution_count": 18,
   "metadata": {},
   "outputs": [
    {
     "data": {
      "text/plain": [
       "(428, 8)"
      ]
     },
     "execution_count": 18,
     "metadata": {},
     "output_type": "execute_result"
    },
    {
     "data": {
      "text/plain": [
       "(428,)"
      ]
     },
     "execution_count": 18,
     "metadata": {},
     "output_type": "execute_result"
    },
    {
     "data": {
      "text/plain": [
       "array([214, 214], dtype=int64)"
      ]
     },
     "execution_count": 18,
     "metadata": {},
     "output_type": "execute_result"
    },
    {
     "name": "stdout",
     "output_type": "stream",
     "text": [
      "         Method  Neg  True Neg  False Neg  Pos  TP  FP  Accuracy    Recall  \\\n",
      "0  Under Sample   92        73         19   62  35  27  0.701299  0.648148   \n",
      "\n",
      "   Precision        F1       AUC  \n",
      "0   0.564516  0.603448  0.689074  \n"
     ]
    }
   ],
   "source": [
    "from imblearn.under_sampling import RandomUnderSampler\n",
    "\n",
    "rus = RandomUnderSampler(random_state=0)\n",
    "X_resampled, y_resampled = rus.fit_resample(X_train, y_train)\n",
    "\n",
    "X_resampled.shape\n",
    "y_resampled.shape\n",
    "np.bincount(y_resampled)\n",
    "\n",
    "evals_d.append(quick_evaluate_with_dt(X_resampled, X_test, y_resampled, y_test,  'Under Sample'))"
   ]
  },
  {
   "cell_type": "code",
   "execution_count": 19,
   "metadata": {},
   "outputs": [
    {
     "data": {
      "text/plain": [
       "0    100\n",
       "1     54\n",
       "Name: diabetes, dtype: int64"
      ]
     },
     "execution_count": 19,
     "metadata": {},
     "output_type": "execute_result"
    },
    {
     "data": {
      "text/html": [
       "<div>\n",
       "<style scoped>\n",
       "    .dataframe tbody tr th:only-of-type {\n",
       "        vertical-align: middle;\n",
       "    }\n",
       "\n",
       "    .dataframe tbody tr th {\n",
       "        vertical-align: top;\n",
       "    }\n",
       "\n",
       "    .dataframe thead th {\n",
       "        text-align: right;\n",
       "    }\n",
       "</style>\n",
       "<table border=\"1\" class=\"dataframe\">\n",
       "  <thead>\n",
       "    <tr style=\"text-align: right;\">\n",
       "      <th></th>\n",
       "      <th>Method</th>\n",
       "      <th>Neg</th>\n",
       "      <th>True Neg</th>\n",
       "      <th>False Neg</th>\n",
       "      <th>Pos</th>\n",
       "      <th>TP</th>\n",
       "      <th>FP</th>\n",
       "      <th>Accuracy</th>\n",
       "      <th>Recall</th>\n",
       "      <th>Precision</th>\n",
       "      <th>F1</th>\n",
       "      <th>AUC</th>\n",
       "    </tr>\n",
       "  </thead>\n",
       "  <tbody>\n",
       "    <tr>\n",
       "      <th>4</th>\n",
       "      <td>Over ADASYN</td>\n",
       "      <td>101</td>\n",
       "      <td>81</td>\n",
       "      <td>20</td>\n",
       "      <td>53</td>\n",
       "      <td>34</td>\n",
       "      <td>19</td>\n",
       "      <td>0.746753</td>\n",
       "      <td>0.629630</td>\n",
       "      <td>0.641509</td>\n",
       "      <td>0.635514</td>\n",
       "      <td>0.719815</td>\n",
       "    </tr>\n",
       "    <tr>\n",
       "      <th>3</th>\n",
       "      <td>Over SMOTE</td>\n",
       "      <td>107</td>\n",
       "      <td>84</td>\n",
       "      <td>23</td>\n",
       "      <td>47</td>\n",
       "      <td>31</td>\n",
       "      <td>16</td>\n",
       "      <td>0.746753</td>\n",
       "      <td>0.574074</td>\n",
       "      <td>0.659574</td>\n",
       "      <td>0.613861</td>\n",
       "      <td>0.707037</td>\n",
       "    </tr>\n",
       "    <tr>\n",
       "      <th>2</th>\n",
       "      <td>Over Random</td>\n",
       "      <td>110</td>\n",
       "      <td>86</td>\n",
       "      <td>24</td>\n",
       "      <td>44</td>\n",
       "      <td>30</td>\n",
       "      <td>14</td>\n",
       "      <td>0.753247</td>\n",
       "      <td>0.555556</td>\n",
       "      <td>0.681818</td>\n",
       "      <td>0.612245</td>\n",
       "      <td>0.707778</td>\n",
       "    </tr>\n",
       "    <tr>\n",
       "      <th>5</th>\n",
       "      <td>Under Sample</td>\n",
       "      <td>92</td>\n",
       "      <td>73</td>\n",
       "      <td>19</td>\n",
       "      <td>62</td>\n",
       "      <td>35</td>\n",
       "      <td>27</td>\n",
       "      <td>0.701299</td>\n",
       "      <td>0.648148</td>\n",
       "      <td>0.564516</td>\n",
       "      <td>0.603448</td>\n",
       "      <td>0.689074</td>\n",
       "    </tr>\n",
       "    <tr>\n",
       "      <th>0</th>\n",
       "      <td>None</td>\n",
       "      <td>116</td>\n",
       "      <td>88</td>\n",
       "      <td>28</td>\n",
       "      <td>38</td>\n",
       "      <td>26</td>\n",
       "      <td>12</td>\n",
       "      <td>0.740260</td>\n",
       "      <td>0.481481</td>\n",
       "      <td>0.684211</td>\n",
       "      <td>0.565217</td>\n",
       "      <td>0.680741</td>\n",
       "    </tr>\n",
       "    <tr>\n",
       "      <th>1</th>\n",
       "      <td>Class Weights</td>\n",
       "      <td>116</td>\n",
       "      <td>88</td>\n",
       "      <td>28</td>\n",
       "      <td>38</td>\n",
       "      <td>26</td>\n",
       "      <td>12</td>\n",
       "      <td>0.740260</td>\n",
       "      <td>0.481481</td>\n",
       "      <td>0.684211</td>\n",
       "      <td>0.565217</td>\n",
       "      <td>0.680741</td>\n",
       "    </tr>\n",
       "  </tbody>\n",
       "</table>\n",
       "</div>"
      ],
      "text/plain": [
       "          Method  Neg  True Neg  False Neg  Pos  TP  FP  Accuracy    Recall  \\\n",
       "4    Over ADASYN  101        81         20   53  34  19  0.746753  0.629630   \n",
       "3     Over SMOTE  107        84         23   47  31  16  0.746753  0.574074   \n",
       "2    Over Random  110        86         24   44  30  14  0.753247  0.555556   \n",
       "5   Under Sample   92        73         19   62  35  27  0.701299  0.648148   \n",
       "0           None  116        88         28   38  26  12  0.740260  0.481481   \n",
       "1  Class Weights  116        88         28   38  26  12  0.740260  0.481481   \n",
       "\n",
       "   Precision        F1       AUC  \n",
       "4   0.641509  0.635514  0.719815  \n",
       "3   0.659574  0.613861  0.707037  \n",
       "2   0.681818  0.612245  0.707778  \n",
       "5   0.564516  0.603448  0.689074  \n",
       "0   0.684211  0.565217  0.680741  \n",
       "1   0.684211  0.565217  0.680741  "
      ]
     },
     "execution_count": 19,
     "metadata": {},
     "output_type": "execute_result"
    }
   ],
   "source": [
    "# Recall the actual distrition of the truth labels of the testing set.\n",
    "y_test.value_counts()\n",
    "\n",
    "evals_d_all = pd.concat([m for m in evals_d], axis = 0).reset_index()\n",
    "\n",
    "evals_d_all = evals_d_all.drop(columns = \"index\",axis =1)\n",
    "evals_d_all.sort_values(by=['F1'], ascending=False)"
   ]
  },
  {
   "cell_type": "code",
   "execution_count": null,
   "metadata": {},
   "outputs": [],
   "source": []
  }
 ],
 "metadata": {
  "kernelspec": {
   "display_name": "Python 3",
   "language": "python",
   "name": "python3"
  },
  "language_info": {
   "codemirror_mode": {
    "name": "ipython",
    "version": 3
   },
   "file_extension": ".py",
   "mimetype": "text/x-python",
   "name": "python",
   "nbconvert_exporter": "python",
   "pygments_lexer": "ipython3",
   "version": "3.7.6"
  }
 },
 "nbformat": 4,
 "nbformat_minor": 4
}
