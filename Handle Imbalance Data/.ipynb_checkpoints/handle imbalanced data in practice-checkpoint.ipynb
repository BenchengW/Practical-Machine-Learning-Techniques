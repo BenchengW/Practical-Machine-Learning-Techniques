{
 "cells": [
  {
   "cell_type": "markdown",
   "metadata": {},
   "source": [
    "# Import Python Packages"
   ]
  },
  {
   "cell_type": "code",
   "execution_count": 8,
   "metadata": {
    "id": "_oPiAg_VJe4L"
   },
   "outputs": [],
   "source": [
    "import pandas as pd\n",
    "import numpy as np\n",
    "\n",
    "import matplotlib.pyplot as plt\n",
    "import seaborn as sn\n",
    "\n",
    "from sklearn.ensemble import RandomForestClassifier\n",
    "\n",
    "from sklearn.model_selection import train_test_split\n",
    "from sklearn.metrics import classification_report, confusion_matrix, accuracy_score\n",
    "\n",
    "from imblearn.over_sampling import RandomOverSampler, SMOTE\n",
    "from sklearn.metrics import confusion_matrix, accuracy_score, f1_score, recall_score, precision_score, roc_auc_score\n",
    "\n"
   ]
  },
  {
   "cell_type": "code",
   "execution_count": 9,
   "metadata": {},
   "outputs": [],
   "source": [
    "# Helper function\n",
    "def quick_evaluate(clf, X_test, y_test, name):\n",
    "    y_pred = clf.predict(X_test)\n",
    "    \n",
    "    tn, fp, fn, tp = confusion_matrix(y_test, y_pred).ravel()\n",
    "    accuracy       = accuracy_score(y_test, y_pred)\n",
    "    f1             = f1_score(y_test, y_pred)\n",
    "    recall         = recall_score(y_test, y_pred)\n",
    "    precision      = precision_score(y_test, y_pred)\n",
    "    roc_auc        = roc_auc_score(y_test, y_pred)\n",
    "    \n",
    "    df = pd.DataFrame({\"Method\"    : [name],\n",
    "                       \"Neg\"       : [tn + fn],\n",
    "                       \"True Neg\"  : [tn],\n",
    "                       \"False Neg\" : [fn],\n",
    "                       \"Pos\"       : [tp + fp],\n",
    "                       \"TP\"        : [tp],\n",
    "                       \"FP\"        : [fp],\n",
    "                       \"Accuracy\"  : [accuracy],\n",
    "                       \"Recall\"    : [recall],\n",
    "                       \"Precision\" : [precision],\n",
    "                       \"F1\"        : [f1],\n",
    "                       \"AUC\"       : [roc_auc],\n",
    "                      })\n",
    "    \n",
    "    print(df)\n",
    "    return df\n",
    "\n",
    "def plot_roc(clf, Xf_test, Yf_test, name, ax, show_thresholds=False):\n",
    "    Yf_pred_rf = clf.predict_proba(Xf_test)[:, 1]\n",
    "    fpr, tpr, thr = roc_curve(Yf_test, Yf_pred_rf)\n",
    "    ax.plot([0, 1], [0, 1], 'k--');\n",
    "    ax.plot(fpr, tpr, label='{}, AUC={:.2f}'.format(name, auc(fpr, tpr)));\n",
    "    ax.scatter(fpr, tpr);\n",
    "    \n",
    "    if show_thresholds:\n",
    "        for i, th in enumerate(thr):\n",
    "            ax.text(x=fpr[i], y=tpr[i], s=\"{:.2f}\".format(th), fontsize=14,\n",
    "            horizontalalignment='left', verticalalignment='top', color='black',\n",
    "            bbox=dict(facecolor='white', edgecolor='black', boxstyle='round,pad=0.1', alpha=0.1));\n",
    "            ax.set_xlabel('False positive rate', fontsize=18);\n",
    "    ax.set_ylabel('True positive rate', fontsize=18);\n",
    "    ax.tick_params(axis='both', which='major', labelsize=18);\n",
    "    ax.grid(True);\n",
    "    ax.set_title('ROC Curve', fontsize=18)"
   ]
  },
  {
   "cell_type": "markdown",
   "metadata": {
    "id": "BjjZFYqUaonM"
   },
   "source": [
    "### Load Data"
   ]
  },
  {
   "cell_type": "code",
   "execution_count": 10,
   "metadata": {
    "id": "9PgxOORLKsVT"
   },
   "outputs": [
    {
     "data": {
      "text/html": [
       "<div>\n",
       "<style scoped>\n",
       "    .dataframe tbody tr th:only-of-type {\n",
       "        vertical-align: middle;\n",
       "    }\n",
       "\n",
       "    .dataframe tbody tr th {\n",
       "        vertical-align: top;\n",
       "    }\n",
       "\n",
       "    .dataframe thead th {\n",
       "        text-align: right;\n",
       "    }\n",
       "</style>\n",
       "<table border=\"1\" class=\"dataframe\">\n",
       "  <thead>\n",
       "    <tr style=\"text-align: right;\">\n",
       "      <th></th>\n",
       "      <th>EPS</th>\n",
       "      <th>Liquidity</th>\n",
       "      <th>Profitability</th>\n",
       "      <th>Productivity</th>\n",
       "      <th>Leverage Ratio</th>\n",
       "      <th>Asset Turnover</th>\n",
       "      <th>Operational Margin</th>\n",
       "      <th>Return on Equity</th>\n",
       "      <th>Market Book Ratio</th>\n",
       "      <th>Assets Growth</th>\n",
       "      <th>Sales Growth</th>\n",
       "      <th>Employee Growth</th>\n",
       "      <th>BK</th>\n",
       "    </tr>\n",
       "  </thead>\n",
       "  <tbody>\n",
       "    <tr>\n",
       "      <th>0</th>\n",
       "      <td>1.58</td>\n",
       "      <td>0.36</td>\n",
       "      <td>0.18</td>\n",
       "      <td>0.13</td>\n",
       "      <td>1.33</td>\n",
       "      <td>1.77</td>\n",
       "      <td>0.07</td>\n",
       "      <td>0.15</td>\n",
       "      <td>2.22</td>\n",
       "      <td>0.000000</td>\n",
       "      <td>0.000000</td>\n",
       "      <td>0.000000</td>\n",
       "      <td>0</td>\n",
       "    </tr>\n",
       "    <tr>\n",
       "      <th>1</th>\n",
       "      <td>1.41</td>\n",
       "      <td>0.36</td>\n",
       "      <td>0.19</td>\n",
       "      <td>0.12</td>\n",
       "      <td>1.31</td>\n",
       "      <td>1.59</td>\n",
       "      <td>0.07</td>\n",
       "      <td>0.13</td>\n",
       "      <td>2.41</td>\n",
       "      <td>0.126319</td>\n",
       "      <td>0.014278</td>\n",
       "      <td>0.040179</td>\n",
       "      <td>0</td>\n",
       "    </tr>\n",
       "    <tr>\n",
       "      <th>2</th>\n",
       "      <td>0.31</td>\n",
       "      <td>0.32</td>\n",
       "      <td>0.13</td>\n",
       "      <td>0.08</td>\n",
       "      <td>1.03</td>\n",
       "      <td>1.55</td>\n",
       "      <td>0.05</td>\n",
       "      <td>0.04</td>\n",
       "      <td>2.56</td>\n",
       "      <td>0.368077</td>\n",
       "      <td>0.327909</td>\n",
       "      <td>0.566524</td>\n",
       "      <td>0</td>\n",
       "    </tr>\n",
       "    <tr>\n",
       "      <th>3</th>\n",
       "      <td>0.71</td>\n",
       "      <td>0.28</td>\n",
       "      <td>0.14</td>\n",
       "      <td>0.08</td>\n",
       "      <td>0.80</td>\n",
       "      <td>1.39</td>\n",
       "      <td>0.06</td>\n",
       "      <td>0.05</td>\n",
       "      <td>5.28</td>\n",
       "      <td>-0.020809</td>\n",
       "      <td>-0.118904</td>\n",
       "      <td>-0.095890</td>\n",
       "      <td>0</td>\n",
       "    </tr>\n",
       "    <tr>\n",
       "      <th>4</th>\n",
       "      <td>0.75</td>\n",
       "      <td>0.41</td>\n",
       "      <td>0.13</td>\n",
       "      <td>0.08</td>\n",
       "      <td>0.20</td>\n",
       "      <td>1.30</td>\n",
       "      <td>0.06</td>\n",
       "      <td>0.04</td>\n",
       "      <td>8.68</td>\n",
       "      <td>0.233089</td>\n",
       "      <td>0.146807</td>\n",
       "      <td>0.053030</td>\n",
       "      <td>0</td>\n",
       "    </tr>\n",
       "  </tbody>\n",
       "</table>\n",
       "</div>"
      ],
      "text/plain": [
       "    EPS  Liquidity  Profitability  Productivity  Leverage Ratio  \\\n",
       "0  1.58       0.36           0.18          0.13            1.33   \n",
       "1  1.41       0.36           0.19          0.12            1.31   \n",
       "2  0.31       0.32           0.13          0.08            1.03   \n",
       "3  0.71       0.28           0.14          0.08            0.80   \n",
       "4  0.75       0.41           0.13          0.08            0.20   \n",
       "\n",
       "   Asset Turnover  Operational Margin  Return on Equity  Market Book Ratio  \\\n",
       "0            1.77                0.07              0.15               2.22   \n",
       "1            1.59                0.07              0.13               2.41   \n",
       "2            1.55                0.05              0.04               2.56   \n",
       "3            1.39                0.06              0.05               5.28   \n",
       "4            1.30                0.06              0.04               8.68   \n",
       "\n",
       "   Assets Growth  Sales Growth  Employee Growth  BK  \n",
       "0       0.000000      0.000000         0.000000   0  \n",
       "1       0.126319      0.014278         0.040179   0  \n",
       "2       0.368077      0.327909         0.566524   0  \n",
       "3      -0.020809     -0.118904        -0.095890   0  \n",
       "4       0.233089      0.146807         0.053030   0  "
      ]
     },
     "execution_count": 10,
     "metadata": {},
     "output_type": "execute_result"
    }
   ],
   "source": [
    "bk_data = pd.read_excel(\"Bankruptcy_data_Final.xlsx\")\n",
    "#Replace NAN with 0\n",
    "bk_data = bk_data.fillna(0)\n",
    "bk_data.head()"
   ]
  },
  {
   "cell_type": "code",
   "execution_count": 11,
   "metadata": {
    "colab": {
     "base_uri": "https://localhost:8080/"
    },
    "executionInfo": {
     "elapsed": 20,
     "status": "ok",
     "timestamp": 1622861243072,
     "user": {
      "displayName": "Jason Li",
      "photoUrl": "https://lh3.googleusercontent.com/-MXuDo0MvoGw/AAAAAAAAAAI/AAAAAAAAAGI/xypEP-pcHVg/s64/photo.jpg",
      "userId": "04045095967198645117"
     },
     "user_tz": 240
    },
    "id": "QgUhFL_wPfyD",
    "outputId": "cd0d9eff-7ba4-43b7-edf3-c62d42530df1"
   },
   "outputs": [
    {
     "data": {
      "text/plain": [
       "EPS                   float64\n",
       "Liquidity             float64\n",
       "Profitability         float64\n",
       "Productivity          float64\n",
       "Leverage Ratio        float64\n",
       "Asset Turnover        float64\n",
       "Operational Margin    float64\n",
       "Return on Equity      float64\n",
       "Market Book Ratio     float64\n",
       "Assets Growth         float64\n",
       "Sales Growth          float64\n",
       "Employee Growth       float64\n",
       "BK                      int64\n",
       "dtype: object"
      ]
     },
     "execution_count": 11,
     "metadata": {},
     "output_type": "execute_result"
    }
   ],
   "source": [
    "bk_data.dtypes"
   ]
  },
  {
   "cell_type": "code",
   "execution_count": 12,
   "metadata": {
    "colab": {
     "base_uri": "https://localhost:8080/"
    },
    "executionInfo": {
     "elapsed": 19,
     "status": "ok",
     "timestamp": 1622861243073,
     "user": {
      "displayName": "Jason Li",
      "photoUrl": "https://lh3.googleusercontent.com/-MXuDo0MvoGw/AAAAAAAAAAI/AAAAAAAAAGI/xypEP-pcHVg/s64/photo.jpg",
      "userId": "04045095967198645117"
     },
     "user_tz": 240
    },
    "id": "TSlYlAw3Pl_u",
    "outputId": "4fb5746c-e5cb-4825-a36f-6345e2cbd71a"
   },
   "outputs": [
    {
     "data": {
      "text/html": [
       "<div>\n",
       "<style scoped>\n",
       "    .dataframe tbody tr th:only-of-type {\n",
       "        vertical-align: middle;\n",
       "    }\n",
       "\n",
       "    .dataframe tbody tr th {\n",
       "        vertical-align: top;\n",
       "    }\n",
       "\n",
       "    .dataframe thead th {\n",
       "        text-align: right;\n",
       "    }\n",
       "</style>\n",
       "<table border=\"1\" class=\"dataframe\">\n",
       "  <thead>\n",
       "    <tr style=\"text-align: right;\">\n",
       "      <th></th>\n",
       "      <th>count</th>\n",
       "      <th>mean</th>\n",
       "      <th>std</th>\n",
       "      <th>min</th>\n",
       "      <th>25%</th>\n",
       "      <th>50%</th>\n",
       "      <th>75%</th>\n",
       "      <th>max</th>\n",
       "    </tr>\n",
       "  </thead>\n",
       "  <tbody>\n",
       "    <tr>\n",
       "      <th>EPS</th>\n",
       "      <td>92872.0</td>\n",
       "      <td>-14.460577</td>\n",
       "      <td>2195.408189</td>\n",
       "      <td>-3.840000e+05</td>\n",
       "      <td>-0.140000</td>\n",
       "      <td>0.330000</td>\n",
       "      <td>1.530000</td>\n",
       "      <td>55339.00</td>\n",
       "    </tr>\n",
       "    <tr>\n",
       "      <th>Liquidity</th>\n",
       "      <td>92872.0</td>\n",
       "      <td>-2.624239</td>\n",
       "      <td>121.449170</td>\n",
       "      <td>-2.596852e+04</td>\n",
       "      <td>0.020000</td>\n",
       "      <td>0.190000</td>\n",
       "      <td>0.400000</td>\n",
       "      <td>1.00</td>\n",
       "    </tr>\n",
       "    <tr>\n",
       "      <th>Profitability</th>\n",
       "      <td>92872.0</td>\n",
       "      <td>-29.458717</td>\n",
       "      <td>676.331196</td>\n",
       "      <td>-7.968200e+04</td>\n",
       "      <td>-0.630000</td>\n",
       "      <td>0.070000</td>\n",
       "      <td>0.310000</td>\n",
       "      <td>140.58</td>\n",
       "    </tr>\n",
       "    <tr>\n",
       "      <th>Productivity</th>\n",
       "      <td>92872.0</td>\n",
       "      <td>-1.219618</td>\n",
       "      <td>35.837859</td>\n",
       "      <td>-5.093000e+03</td>\n",
       "      <td>-0.060000</td>\n",
       "      <td>0.060000</td>\n",
       "      <td>0.110000</td>\n",
       "      <td>1102.00</td>\n",
       "    </tr>\n",
       "    <tr>\n",
       "      <th>Leverage Ratio</th>\n",
       "      <td>92872.0</td>\n",
       "      <td>1.344940</td>\n",
       "      <td>253.002671</td>\n",
       "      <td>-7.811000e+03</td>\n",
       "      <td>0.000000</td>\n",
       "      <td>0.280000</td>\n",
       "      <td>0.820000</td>\n",
       "      <td>75970.38</td>\n",
       "    </tr>\n",
       "    <tr>\n",
       "      <th>Asset Turnover</th>\n",
       "      <td>92872.0</td>\n",
       "      <td>1.050811</td>\n",
       "      <td>2.113826</td>\n",
       "      <td>-3.159000e+01</td>\n",
       "      <td>0.380000</td>\n",
       "      <td>0.820000</td>\n",
       "      <td>1.380000</td>\n",
       "      <td>276.38</td>\n",
       "    </tr>\n",
       "    <tr>\n",
       "      <th>Operational Margin</th>\n",
       "      <td>92872.0</td>\n",
       "      <td>-7.441862</td>\n",
       "      <td>207.953408</td>\n",
       "      <td>-3.017570e+04</td>\n",
       "      <td>-0.020000</td>\n",
       "      <td>0.060000</td>\n",
       "      <td>0.130000</td>\n",
       "      <td>394.47</td>\n",
       "    </tr>\n",
       "    <tr>\n",
       "      <th>Return on Equity</th>\n",
       "      <td>92872.0</td>\n",
       "      <td>-2.112200</td>\n",
       "      <td>352.581716</td>\n",
       "      <td>-8.887514e+04</td>\n",
       "      <td>-0.080000</td>\n",
       "      <td>0.030000</td>\n",
       "      <td>0.070000</td>\n",
       "      <td>39500.00</td>\n",
       "    </tr>\n",
       "    <tr>\n",
       "      <th>Market Book Ratio</th>\n",
       "      <td>92872.0</td>\n",
       "      <td>358.286233</td>\n",
       "      <td>26055.639928</td>\n",
       "      <td>-3.151500e+06</td>\n",
       "      <td>11.160000</td>\n",
       "      <td>58.170000</td>\n",
       "      <td>240.015000</td>\n",
       "      <td>3455419.33</td>\n",
       "    </tr>\n",
       "    <tr>\n",
       "      <th>Assets Growth</th>\n",
       "      <td>92872.0</td>\n",
       "      <td>1.200704</td>\n",
       "      <td>71.059112</td>\n",
       "      <td>-1.000000e+00</td>\n",
       "      <td>-0.041112</td>\n",
       "      <td>0.037360</td>\n",
       "      <td>0.174523</td>\n",
       "      <td>14231.00</td>\n",
       "    </tr>\n",
       "    <tr>\n",
       "      <th>Sales Growth</th>\n",
       "      <td>92872.0</td>\n",
       "      <td>1.763010</td>\n",
       "      <td>171.104938</td>\n",
       "      <td>-2.743103e+01</td>\n",
       "      <td>-0.021171</td>\n",
       "      <td>0.043752</td>\n",
       "      <td>0.187012</td>\n",
       "      <td>39850.00</td>\n",
       "    </tr>\n",
       "    <tr>\n",
       "      <th>Employee Growth</th>\n",
       "      <td>92872.0</td>\n",
       "      <td>0.317408</td>\n",
       "      <td>13.532874</td>\n",
       "      <td>-1.000000e+00</td>\n",
       "      <td>-0.038836</td>\n",
       "      <td>0.002874</td>\n",
       "      <td>0.115836</td>\n",
       "      <td>2699.00</td>\n",
       "    </tr>\n",
       "    <tr>\n",
       "      <th>BK</th>\n",
       "      <td>92872.0</td>\n",
       "      <td>0.006008</td>\n",
       "      <td>0.077280</td>\n",
       "      <td>0.000000e+00</td>\n",
       "      <td>0.000000</td>\n",
       "      <td>0.000000</td>\n",
       "      <td>0.000000</td>\n",
       "      <td>1.00</td>\n",
       "    </tr>\n",
       "  </tbody>\n",
       "</table>\n",
       "</div>"
      ],
      "text/plain": [
       "                      count        mean           std           min  \\\n",
       "EPS                 92872.0  -14.460577   2195.408189 -3.840000e+05   \n",
       "Liquidity           92872.0   -2.624239    121.449170 -2.596852e+04   \n",
       "Profitability       92872.0  -29.458717    676.331196 -7.968200e+04   \n",
       "Productivity        92872.0   -1.219618     35.837859 -5.093000e+03   \n",
       "Leverage Ratio      92872.0    1.344940    253.002671 -7.811000e+03   \n",
       "Asset Turnover      92872.0    1.050811      2.113826 -3.159000e+01   \n",
       "Operational Margin  92872.0   -7.441862    207.953408 -3.017570e+04   \n",
       "Return on Equity    92872.0   -2.112200    352.581716 -8.887514e+04   \n",
       "Market Book Ratio   92872.0  358.286233  26055.639928 -3.151500e+06   \n",
       "Assets Growth       92872.0    1.200704     71.059112 -1.000000e+00   \n",
       "Sales Growth        92872.0    1.763010    171.104938 -2.743103e+01   \n",
       "Employee Growth     92872.0    0.317408     13.532874 -1.000000e+00   \n",
       "BK                  92872.0    0.006008      0.077280  0.000000e+00   \n",
       "\n",
       "                          25%        50%         75%         max  \n",
       "EPS                 -0.140000   0.330000    1.530000    55339.00  \n",
       "Liquidity            0.020000   0.190000    0.400000        1.00  \n",
       "Profitability       -0.630000   0.070000    0.310000      140.58  \n",
       "Productivity        -0.060000   0.060000    0.110000     1102.00  \n",
       "Leverage Ratio       0.000000   0.280000    0.820000    75970.38  \n",
       "Asset Turnover       0.380000   0.820000    1.380000      276.38  \n",
       "Operational Margin  -0.020000   0.060000    0.130000      394.47  \n",
       "Return on Equity    -0.080000   0.030000    0.070000    39500.00  \n",
       "Market Book Ratio   11.160000  58.170000  240.015000  3455419.33  \n",
       "Assets Growth       -0.041112   0.037360    0.174523    14231.00  \n",
       "Sales Growth        -0.021171   0.043752    0.187012    39850.00  \n",
       "Employee Growth     -0.038836   0.002874    0.115836     2699.00  \n",
       "BK                   0.000000   0.000000    0.000000        1.00  "
      ]
     },
     "execution_count": 12,
     "metadata": {},
     "output_type": "execute_result"
    }
   ],
   "source": [
    "bk_data.describe().T"
   ]
  },
  {
   "cell_type": "markdown",
   "metadata": {
    "id": "FSWKFVdIauPD"
   },
   "source": [
    "#### Add Altman Z Score to improve prediction\n",
    "\n",
    "What is Altman Z Score: https://www.investopedia.com/terms/a/altman.asp"
   ]
  },
  {
   "cell_type": "code",
   "execution_count": 13,
   "metadata": {
    "colab": {
     "base_uri": "https://localhost:8080/"
    },
    "executionInfo": {
     "elapsed": 242,
     "status": "ok",
     "timestamp": 1622851547851,
     "user": {
      "displayName": "Jason Li",
      "photoUrl": "https://lh3.googleusercontent.com/-MXuDo0MvoGw/AAAAAAAAAAI/AAAAAAAAAGI/xypEP-pcHVg/s64/photo.jpg",
      "userId": "04045095967198645117"
     },
     "user_tz": 240
    },
    "id": "0milncgAWNxf",
    "outputId": "cbc50be2-76b5-418d-94b3-e731d37d6271"
   },
   "outputs": [
    {
     "data": {
      "text/plain": [
       "0        2.650128\n",
       "1        2.444015\n",
       "2        2.396524\n",
       "3        2.404000\n",
       "4        4.564000\n",
       "           ...   \n",
       "92867   -0.014247\n",
       "92868   -0.316303\n",
       "92869    0.787640\n",
       "92870    1.243237\n",
       "92871    0.609870\n",
       "Length: 92872, dtype: float64"
      ]
     },
     "execution_count": 13,
     "metadata": {},
     "output_type": "execute_result"
    }
   ],
   "source": [
    "# Altman Z Score\n",
    "bk_data['Altman Z Score'] = 1.2*bk_data['Liquidity'] + 1.4*bk_data['Profitability'] \n",
    "+ 3.3*bk_data['Productivity'] + 0.6/bk_data['Leverage Ratio'] + bk_data['Asset Turnover']"
   ]
  },
  {
   "cell_type": "code",
   "execution_count": 14,
   "metadata": {
    "id": "ZjKo3YZ1ENZ9"
   },
   "outputs": [
    {
     "data": {
      "text/plain": [
       "<matplotlib.axes._subplots.AxesSubplot at 0x249cdabf9c8>"
      ]
     },
     "execution_count": 14,
     "metadata": {},
     "output_type": "execute_result"
    },
    {
     "data": {
      "image/png": "[encoded data removed]",
      "text/plain": [
       "<Figure size 432x288 with 2 Axes>"
      ]
     },
     "metadata": {
      "needs_background": "light"
     },
     "output_type": "display_data"
    }
   ],
   "source": [
    "corr = bk_data.drop('BK',axis=1).corr()\n",
    "plt.figure(figsize=(6,4))\n",
    "sn.heatmap(corr)"
   ]
  },
  {
   "cell_type": "code",
   "execution_count": 80,
   "metadata": {},
   "outputs": [
    {
     "data": {
      "text/plain": [
       "<matplotlib.axes._subplots.AxesSubplot at 0x249ce345b88>"
      ]
     },
     "execution_count": 80,
     "metadata": {},
     "output_type": "execute_result"
    },
    {
     "data": {
      "image/png": "[encoded data removed]",
      "text/plain": [
       "<Figure size 640x480 with 1 Axes>"
      ]
     },
     "metadata": {},
     "output_type": "display_data"
    }
   ],
   "source": [
    "sn.scatterplot(data=bk_data, x=\"Profitability\", y=\"Productivity\", hue=\"BK\")"
   ]
  },
  {
   "cell_type": "code",
   "execution_count": null,
   "metadata": {},
   "outputs": [],
   "source": [
    "sn.scatterplot(data=bk_data[bk_data[]], x=\"Profitability\", y=\"Productivity\", hue=\"BK\")"
   ]
  },
  {
   "cell_type": "markdown",
   "metadata": {
    "id": "dUm08Xq-ayc7"
   },
   "source": [
    "### Train Test Split"
   ]
  },
  {
   "cell_type": "code",
   "execution_count": 15,
   "metadata": {
    "id": "Pdv91rlgPwPm"
   },
   "outputs": [],
   "source": [
    "X = bk_data.drop('BK', axis=1)\n",
    "y = bk_data['BK']\n",
    "X_train, X_test, y_train,  y_test = train_test_split(X, y, random_state=42)"
   ]
  },
  {
   "cell_type": "code",
   "execution_count": 16,
   "metadata": {
    "colab": {
     "base_uri": "https://localhost:8080/"
    },
    "executionInfo": {
     "elapsed": 18,
     "status": "ok",
     "timestamp": 1622861243075,
     "user": {
      "displayName": "Jason Li",
      "photoUrl": "https://lh3.googleusercontent.com/-MXuDo0MvoGw/AAAAAAAAAAI/AAAAAAAAAGI/xypEP-pcHVg/s64/photo.jpg",
      "userId": "04045095967198645117"
     },
     "user_tz": 240
    },
    "id": "7BLWfyUmSs5g",
    "outputId": "f8165c56-8828-45ed-8f80-14c19aad2a16"
   },
   "outputs": [
    {
     "name": "stdout",
     "output_type": "stream",
     "text": [
      "(69654, 13)\n",
      "(23218, 13)\n",
      "(array([0, 1], dtype=int64), array([69235,   419], dtype=int64))\n",
      "(array([0, 1], dtype=int64), array([23079,   139], dtype=int64))\n"
     ]
    }
   ],
   "source": [
    "print(X_train.shape)\n",
    "print(X_test.shape)\n",
    "print(np.unique(y_train, return_counts=True))\n",
    "print(np.unique(y_test, return_counts=True))"
   ]
  },
  {
   "cell_type": "markdown",
   "metadata": {},
   "source": [
    "### Baseline Random Forest before under/over Sampling"
   ]
  },
  {
   "cell_type": "code",
   "execution_count": 17,
   "metadata": {},
   "outputs": [
    {
     "name": "stdout",
     "output_type": "stream",
     "text": [
      "Wall time: 11 s\n",
      "              precision    recall  f1-score   support\n",
      "\n",
      "           0       0.99      1.00      1.00     23079\n",
      "           1       1.00      0.01      0.01       139\n",
      "\n",
      "    accuracy                           0.99     23218\n",
      "   macro avg       1.00      0.50      0.51     23218\n",
      "weighted avg       0.99      0.99      0.99     23218\n",
      "\n"
     ]
    },
    {
     "data": {
      "text/plain": [
       "<matplotlib.axes._subplots.AxesSubplot at 0x249d1316ac8>"
      ]
     },
     "execution_count": 17,
     "metadata": {},
     "output_type": "execute_result"
    },
    {
     "data": {
      "image/png": "[encoded data removed]",
      "text/plain": [
       "<Figure size 216x216 with 1 Axes>"
      ]
     },
     "metadata": {
      "needs_background": "light"
     },
     "output_type": "display_data"
    }
   ],
   "source": [
    "RF_Baseline = RandomForestClassifier(random_state=42)\n",
    "%time RF_Baseline.fit(X_train, y_train)\n",
    "RF_Baseline_predict = RF_Baseline.predict(X_test)\n",
    "print(classification_report(y_test, RF_Baseline_predict))\n",
    "plt.figure(figsize=(3, 3))\n",
    "sn.heatmap(confusion_matrix(y_test,RF_Baseline_predict), cbar=False, annot=True, cmap='Wistia', fmt ='d',annot_kws={\"size\":16})"
   ]
  },
  {
   "cell_type": "code",
   "execution_count": 21,
   "metadata": {},
   "outputs": [
    {
     "name": "stdout",
     "output_type": "stream",
     "text": [
      "                   Method    Neg  True Neg  False Neg  Pos  TP  FP  Accuracy  \\\n",
      "0  Random Forest Baseline  23217     23079        138    1   1   0  0.994056   \n",
      "\n",
      "     Recall  Precision        F1       AUC  \n",
      "0  0.007194        1.0  0.014286  0.503597  \n"
     ]
    }
   ],
   "source": [
    "evals = []\n",
    "evals.append(quick_evaluate(RF_Baseline, X_test, y_test, \"Random Forest Baseline\"))"
   ]
  },
  {
   "cell_type": "code",
   "execution_count": 22,
   "metadata": {},
   "outputs": [
    {
     "name": "stdout",
     "output_type": "stream",
     "text": [
      "Wall time: 8.38 s\n",
      "              precision    recall  f1-score   support\n",
      "\n",
      "           0       0.99      1.00      1.00     23079\n",
      "           1       0.40      0.01      0.03       139\n",
      "\n",
      "    accuracy                           0.99     23218\n",
      "   macro avg       0.70      0.51      0.51     23218\n",
      "weighted avg       0.99      0.99      0.99     23218\n",
      "\n"
     ]
    },
    {
     "data": {
      "text/plain": [
       "<matplotlib.axes._subplots.AxesSubplot at 0x249cf913248>"
      ]
     },
     "execution_count": 22,
     "metadata": {},
     "output_type": "execute_result"
    },
    {
     "data": {
      "image/png": "[encoded data removed]",
      "text/plain": [
       "<Figure size 216x216 with 1 Axes>"
      ]
     },
     "metadata": {
      "needs_background": "light"
     },
     "output_type": "display_data"
    }
   ],
   "source": [
    "RF_Baseline_Balanced = RandomForestClassifier(class_weight='balanced', random_state=42)\n",
    "%time RF_Baseline_Balanced.fit(X_train, y_train)\n",
    "RF_Baseline_Balanced_predict = RF_Baseline_Balanced.predict(X_test)\n",
    "print(classification_report(y_test, RF_Baseline_Balanced_predict))\n",
    "plt.figure(figsize=(3, 3))\n",
    "sn.heatmap(confusion_matrix(y_test,RF_Baseline_Balanced_predict), cbar=False, annot=True, cmap='Wistia', fmt ='d',annot_kws={\"size\":16})"
   ]
  },
  {
   "cell_type": "code",
   "execution_count": 23,
   "metadata": {},
   "outputs": [
    {
     "name": "stdout",
     "output_type": "stream",
     "text": [
      "                          Method    Neg  True Neg  False Neg  Pos  TP  FP  \\\n",
      "0  Random Forest Balanced-Weight  23213     23076        137    5   2   3   \n",
      "\n",
      "   Accuracy    Recall  Precision        F1       AUC  \n",
      "0   0.99397  0.014388        0.4  0.027778  0.507129  \n"
     ]
    }
   ],
   "source": [
    "evals.append(quick_evaluate(RF_Baseline_Balanced, X_test, y_test, \"Random Forest Balanced-Weight\"))"
   ]
  },
  {
   "cell_type": "markdown",
   "metadata": {
    "id": "_106vAa3a7k_"
   },
   "source": [
    "### Oversampling with Imblearn and SMOTE and ADASYN"
   ]
  },
  {
   "cell_type": "code",
   "execution_count": 30,
   "metadata": {
    "id": "MXAsGs47O7Jp"
   },
   "outputs": [
    {
     "name": "stdout",
     "output_type": "stream",
     "text": [
      "(138470, 13)\n",
      "(138470,)\n",
      "(array([0, 1], dtype=int64), array([69235, 69235], dtype=int64))\n"
     ]
    }
   ],
   "source": [
    "from imblearn.over_sampling import RandomOverSampler\n",
    "#Oversampling\n",
    "oversampler = RandomOverSampler(sampling_strategy='minority', random_state=42)\n",
    "X_train_over, y_train_over = oversampler.fit_resample(X_train, y_train)\n",
    "print(X_train_over.shape)\n",
    "print(y_train_over.shape)\n",
    "print(np.unique(y_train_over, return_counts=True))"
   ]
  },
  {
   "cell_type": "code",
   "execution_count": 31,
   "metadata": {},
   "outputs": [
    {
     "name": "stdout",
     "output_type": "stream",
     "text": [
      "Wall time: 17.7 s\n",
      "              precision    recall  f1-score   support\n",
      "\n",
      "           0       0.99      1.00      1.00     23079\n",
      "           1       0.17      0.01      0.03       139\n",
      "\n",
      "    accuracy                           0.99     23218\n",
      "   macro avg       0.58      0.51      0.51     23218\n",
      "weighted avg       0.99      0.99      0.99     23218\n",
      "\n"
     ]
    },
    {
     "data": {
      "text/plain": [
       "<matplotlib.axes._subplots.AxesSubplot at 0x249cdac9408>"
      ]
     },
     "execution_count": 31,
     "metadata": {},
     "output_type": "execute_result"
    },
    {
     "data": {
      "image/png": "[encoded data removed]",
      "text/plain": [
       "<Figure size 216x216 with 1 Axes>"
      ]
     },
     "metadata": {
      "needs_background": "light"
     },
     "output_type": "display_data"
    }
   ],
   "source": [
    "RF_over = RandomForestClassifier(class_weight='balanced', random_state=42)\n",
    "%time RF_over.fit(X_train_over, y_train_over)\n",
    "RF_over_predict = RF_over.predict(X_test)\n",
    "print(classification_report(y_test, RF_over_predict))\n",
    "plt.figure(figsize=(3, 3))\n",
    "sn.heatmap(confusion_matrix(y_test,RF_over_predict), cbar=False, annot=True, cmap='Wistia', fmt ='d',annot_kws={\"size\": 16})"
   ]
  },
  {
   "cell_type": "code",
   "execution_count": 26,
   "metadata": {},
   "outputs": [
    {
     "name": "stdout",
     "output_type": "stream",
     "text": [
      "                                Method    Neg  True Neg  False Neg  Pos  TP  \\\n",
      "0  Random Forest Imblearn-OverSampling  23206     23069        137   12   2   \n",
      "\n",
      "   FP  Accuracy    Recall  Precision       F1       AUC  \n",
      "0  10  0.993669  0.014388   0.166667  0.02649  0.506978  \n"
     ]
    }
   ],
   "source": [
    "evals.append(quick_evaluate(RF_over, X_test, y_test, \"Random Forest Imblearn-OverSampling\"))"
   ]
  },
  {
   "cell_type": "code",
   "execution_count": 27,
   "metadata": {
    "colab": {
     "base_uri": "https://localhost:8080/"
    },
    "executionInfo": {
     "elapsed": 279,
     "status": "ok",
     "timestamp": 1622861243617,
     "user": {
      "displayName": "Jason Li",
      "photoUrl": "https://lh3.googleusercontent.com/-MXuDo0MvoGw/AAAAAAAAAAI/AAAAAAAAAGI/xypEP-pcHVg/s64/photo.jpg",
      "userId": "04045095967198645117"
     },
     "user_tz": 240
    },
    "id": "kp1h_9m6-M4Q",
    "outputId": "e8aaf6d6-81de-40ec-92d0-302c358292ca"
   },
   "outputs": [
    {
     "name": "stdout",
     "output_type": "stream",
     "text": [
      "(138470, 13)\n",
      "(138470,)\n",
      "(array([0, 1], dtype=int64), array([69235, 69235], dtype=int64))\n"
     ]
    }
   ],
   "source": [
    "#SMOTE\n",
    "from imblearn.over_sampling import SMOTE\n",
    "smt = SMOTE(sampling_strategy='minority', random_state=42)\n",
    "X_train_smt, y_train_smt = smt.fit_resample(X_train, y_train)\n",
    "print(X_train_smt.shape)\n",
    "print(y_train_smt.shape)\n",
    "print(np.unique(y_train_smt, return_counts=True))"
   ]
  },
  {
   "cell_type": "code",
   "execution_count": 28,
   "metadata": {},
   "outputs": [
    {
     "name": "stdout",
     "output_type": "stream",
     "text": [
      "Wall time: 46.1 s\n",
      "              precision    recall  f1-score   support\n",
      "\n",
      "           0       1.00      0.99      0.99     23079\n",
      "           1       0.12      0.29      0.17       139\n",
      "\n",
      "    accuracy                           0.98     23218\n",
      "   macro avg       0.56      0.64      0.58     23218\n",
      "weighted avg       0.99      0.98      0.99     23218\n",
      "\n"
     ]
    },
    {
     "data": {
      "text/plain": [
       "<matplotlib.axes._subplots.AxesSubplot at 0x249d11cfcc8>"
      ]
     },
     "execution_count": 28,
     "metadata": {},
     "output_type": "execute_result"
    },
    {
     "data": {
      "image/png": "[encoded data removed]",
      "text/plain": [
       "<Figure size 216x216 with 1 Axes>"
      ]
     },
     "metadata": {
      "needs_background": "light"
     },
     "output_type": "display_data"
    }
   ],
   "source": [
    "RF_smt = RandomForestClassifier(class_weight='balanced', random_state=42)\n",
    "%time RF_smt.fit(X_train_smt, y_train_smt)\n",
    "RF_smt_predict = RF_smt.predict(X_test)\n",
    "print(classification_report(y_test, RF_smt_predict))\n",
    "plt.figure(figsize=(3, 3))\n",
    "sn.heatmap(confusion_matrix(y_test,RF_smt_predict), cbar=False, annot=True, cmap='Wistia', fmt ='d',annot_kws={\"size\": 16})"
   ]
  },
  {
   "cell_type": "code",
   "execution_count": 29,
   "metadata": {},
   "outputs": [
    {
     "name": "stdout",
     "output_type": "stream",
     "text": [
      "                             Method    Neg  True Neg  False Neg  Pos  TP   FP  \\\n",
      "0  Random Forest SMOTE-OverSampling  22883     22785         98  335  41  294   \n",
      "\n",
      "   Accuracy    Recall  Precision        F1       AUC  \n",
      "0  0.983117  0.294964   0.122388  0.172996  0.641113  \n"
     ]
    }
   ],
   "source": [
    "evals.append(quick_evaluate(RF_smt, X_test, y_test, \"Random Forest SMOTE-OverSampling\"))"
   ]
  },
  {
   "cell_type": "code",
   "execution_count": 32,
   "metadata": {},
   "outputs": [],
   "source": [
    "from imblearn.over_sampling import ADASYN"
   ]
  },
  {
   "cell_type": "code",
   "execution_count": 33,
   "metadata": {},
   "outputs": [
    {
     "name": "stdout",
     "output_type": "stream",
     "text": [
      "(138534, 13)\n",
      "(138534,)\n",
      "(array([0, 1], dtype=int64), array([69235, 69299], dtype=int64))\n"
     ]
    }
   ],
   "source": [
    "ADASYN_over = ADASYN(random_state=42)\n",
    "X_train_ADASYN, y_train_ADASYN = ADASYN_over.fit_resample(X_train, y_train)\n",
    "print(X_train_ADASYN.shape)\n",
    "print(y_train_ADASYN.shape)\n",
    "print(np.unique(y_train_ADASYN, return_counts=True))"
   ]
  },
  {
   "cell_type": "code",
   "execution_count": 36,
   "metadata": {},
   "outputs": [
    {
     "name": "stdout",
     "output_type": "stream",
     "text": [
      "Wall time: 42.4 s\n",
      "              precision    recall  f1-score   support\n",
      "\n",
      "           0       1.00      0.99      0.99     23079\n",
      "           1       0.13      0.32      0.18       139\n",
      "\n",
      "    accuracy                           0.98     23218\n",
      "   macro avg       0.56      0.65      0.59     23218\n",
      "weighted avg       0.99      0.98      0.99     23218\n",
      "\n"
     ]
    },
    {
     "data": {
      "text/plain": [
       "<matplotlib.axes._subplots.AxesSubplot at 0x249d1a3e048>"
      ]
     },
     "execution_count": 36,
     "metadata": {},
     "output_type": "execute_result"
    },
    {
     "data": {
      "image/png": "[encoded data removed]",
      "text/plain": [
       "<Figure size 216x216 with 1 Axes>"
      ]
     },
     "metadata": {
      "needs_background": "light"
     },
     "output_type": "display_data"
    }
   ],
   "source": [
    "RF_ADASYN = RandomForestClassifier(class_weight='balanced', random_state=42)\n",
    "%time RF_ADASYN.fit(X_train_ADASYN, y_train_ADASYN)\n",
    "RF_ADASYN_predict = RF_ADASYN.predict(X_test)\n",
    "print(classification_report(y_test, RF_ADASYN_predict))\n",
    "plt.figure(figsize=(3, 3))\n",
    "sn.heatmap(confusion_matrix(y_test,RF_ADASYN_predict), cbar=False, annot=True, cmap='Wistia', fmt ='d',annot_kws={\"size\": 16})"
   ]
  },
  {
   "cell_type": "code",
   "execution_count": 35,
   "metadata": {},
   "outputs": [
    {
     "name": "stdout",
     "output_type": "stream",
     "text": [
      "                              Method    Neg  True Neg  False Neg  Pos  TP  \\\n",
      "0  Random Forest ADASYN-OverSampling  22881     22786         95  337  44   \n",
      "\n",
      "    FP  Accuracy    Recall  Precision        F1       AUC  \n",
      "0  293  0.983289  0.316547   0.130564  0.184874  0.651926  \n"
     ]
    }
   ],
   "source": [
    "evals.append(quick_evaluate(RF_ADASYN, X_test, y_test, \"Random Forest ADASYN-OverSampling\"))"
   ]
  },
  {
   "cell_type": "markdown",
   "metadata": {},
   "source": [
    "## Under-Sampling Imbalanced Date"
   ]
  },
  {
   "cell_type": "code",
   "execution_count": 37,
   "metadata": {},
   "outputs": [],
   "source": [
    "from imblearn.pipeline import Pipeline\n",
    "import matplotlib.pyplot as plt\n",
    "from imblearn.under_sampling import RandomUnderSampler"
   ]
  },
  {
   "cell_type": "code",
   "execution_count": 38,
   "metadata": {},
   "outputs": [],
   "source": [
    "X = bk_data.drop('BK', axis=1)\n",
    "y = bk_data['BK']\n",
    "\n",
    "X_train, X_test, y_train,  y_test = train_test_split(X, y, random_state=42)"
   ]
  },
  {
   "cell_type": "code",
   "execution_count": 39,
   "metadata": {},
   "outputs": [
    {
     "name": "stdout",
     "output_type": "stream",
     "text": [
      "(array([0, 1], dtype=int64), array([419, 419], dtype=int64))\n"
     ]
    }
   ],
   "source": [
    "rus = RandomUnderSampler() \n",
    "# resampling X, y\n",
    "X_rus, y_rus = rus.fit_resample(X_train, y_train)# new class distribution\n",
    "print(np.unique(y_rus, return_counts=True))"
   ]
  },
  {
   "cell_type": "code",
   "execution_count": 40,
   "metadata": {},
   "outputs": [
    {
     "name": "stdout",
     "output_type": "stream",
     "text": [
      "(array([0, 1], dtype=int64), array([69235,   419], dtype=int64))\n"
     ]
    }
   ],
   "source": [
    "print(np.unique(y_train, return_counts=True))"
   ]
  },
  {
   "cell_type": "code",
   "execution_count": 43,
   "metadata": {},
   "outputs": [
    {
     "name": "stdout",
     "output_type": "stream",
     "text": [
      "Wall time: 200 ms\n",
      "              precision    recall  f1-score   support\n",
      "\n",
      "           0       1.00      0.83      0.91     23079\n",
      "           1       0.03      0.88      0.06       139\n",
      "\n",
      "    accuracy                           0.83     23218\n",
      "   macro avg       0.52      0.86      0.48     23218\n",
      "weighted avg       0.99      0.83      0.90     23218\n",
      "\n"
     ]
    },
    {
     "data": {
      "text/plain": [
       "<matplotlib.axes._subplots.AxesSubplot at 0x249d013e488>"
      ]
     },
     "execution_count": 43,
     "metadata": {},
     "output_type": "execute_result"
    },
    {
     "data": {
      "image/png": "[encoded data removed]",
      "text/plain": [
       "<Figure size 216x216 with 1 Axes>"
      ]
     },
     "metadata": {
      "needs_background": "light"
     },
     "output_type": "display_data"
    }
   ],
   "source": [
    "#Random Forest\n",
    "RF_under = RandomForestClassifier(class_weight='balanced', random_state=42)\n",
    "%time RF_under.fit(X_rus, y_rus)\n",
    "RF_under_predict = RF_under.predict(X_test)\n",
    "print(classification_report(y_test, RF_under_predict))\n",
    "plt.figure(figsize=(3, 3))\n",
    "sn.heatmap(confusion_matrix(y_test,RF_under_predict), cbar=False, annot=True, cmap='Wistia', fmt ='d',annot_kws={\"size\": 16})"
   ]
  },
  {
   "cell_type": "code",
   "execution_count": 42,
   "metadata": {},
   "outputs": [
    {
     "name": "stdout",
     "output_type": "stream",
     "text": [
      "                                 Method    Neg  True Neg  False Neg   Pos  \\\n",
      "0  Random Forest Imblearn-UnderSampling  19271     19255         16  3947   \n",
      "\n",
      "    TP    FP  Accuracy    Recall  Precision        F1     AUC  \n",
      "0  123  3824  0.834611  0.884892   0.031163  0.060206  0.8596  \n"
     ]
    }
   ],
   "source": [
    "evals.append(quick_evaluate(RF_under, X_test, y_test, \"Random Forest Imblearn-UnderSampling\"))"
   ]
  },
  {
   "cell_type": "code",
   "execution_count": 44,
   "metadata": {},
   "outputs": [
    {
     "name": "stdout",
     "output_type": "stream",
     "text": [
      "(array([0, 1], dtype=int64), array([419, 419], dtype=int64))\n"
     ]
    }
   ],
   "source": [
    "from imblearn.under_sampling import NearMiss\n",
    "\n",
    "nm = NearMiss()\n",
    "# resampling X, y\n",
    "X_nm, y_nm = nm.fit_resample(X_train, y_train)# new class distribution\n",
    "print(np.unique(y_nm, return_counts=True))"
   ]
  },
  {
   "cell_type": "code",
   "execution_count": 48,
   "metadata": {},
   "outputs": [
    {
     "name": "stdout",
     "output_type": "stream",
     "text": [
      "(array([0, 1], dtype=int64), array([69235,   419], dtype=int64))\n"
     ]
    }
   ],
   "source": [
    "print(np.unique(y_train, return_counts=True))"
   ]
  },
  {
   "cell_type": "code",
   "execution_count": 47,
   "metadata": {},
   "outputs": [
    {
     "name": "stdout",
     "output_type": "stream",
     "text": [
      "Wall time: 198 ms\n",
      "              precision    recall  f1-score   support\n",
      "\n",
      "           0       0.99      0.06      0.12     23079\n",
      "           1       0.01      0.94      0.01       139\n",
      "\n",
      "    accuracy                           0.07     23218\n",
      "   macro avg       0.50      0.50      0.07     23218\n",
      "weighted avg       0.99      0.07      0.12     23218\n",
      "\n"
     ]
    },
    {
     "data": {
      "text/plain": [
       "<matplotlib.axes._subplots.AxesSubplot at 0x249cfa03588>"
      ]
     },
     "execution_count": 47,
     "metadata": {},
     "output_type": "execute_result"
    },
    {
     "data": {
      "image/png": "[encoded data removed]",
      "text/plain": [
       "<Figure size 216x216 with 1 Axes>"
      ]
     },
     "metadata": {
      "needs_background": "light"
     },
     "output_type": "display_data"
    }
   ],
   "source": [
    "RF_undernm = RandomForestClassifier(class_weight='balanced', random_state=42)\n",
    "%time RF_undernm.fit(X_nm, y_nm)\n",
    "RF_undernm_predict = RF_undernm.predict(X_test)\n",
    "print(classification_report(y_test, RF_undernm_predict))\n",
    "plt.figure(figsize=(3, 3))\n",
    "sn.heatmap(confusion_matrix(y_test,RF_undernm_predict), cbar=False, annot=True, cmap='Wistia', fmt ='d',annot_kws={\"size\": 16})"
   ]
  },
  {
   "cell_type": "code",
   "execution_count": null,
   "metadata": {},
   "outputs": [],
   "source": [
    "evals.append(quick_evaluate(RF_undernm, X_test, y_test, \"Random Forest NearMiss Undersampling\"))"
   ]
  },
  {
   "cell_type": "markdown",
   "metadata": {},
   "source": [
    "# Combining Both Over and Under Sampling Techniques"
   ]
  },
  {
   "cell_type": "code",
   "execution_count": 65,
   "metadata": {},
   "outputs": [
    {
     "name": "stdout",
     "output_type": "stream",
     "text": [
      "(array([0, 1], dtype=int64), array([69235, 48464], dtype=int64))\n"
     ]
    }
   ],
   "source": [
    "# instantiating over and under sampler\n",
    "over = RandomOverSampler(sampling_strategy=0.7)\n",
    "under = RandomUnderSampler(sampling_strategy=0.7)# first performing oversampling to minority class\n",
    "X_over, y_over = over.fit_resample(X_train, y_train)\n",
    "print(np.unique(y_over, return_counts=True))"
   ]
  },
  {
   "cell_type": "code",
   "execution_count": 66,
   "metadata": {},
   "outputs": [
    {
     "name": "stdout",
     "output_type": "stream",
     "text": [
      "(array([0, 1], dtype=int64), array([69234, 48464], dtype=int64))\n"
     ]
    }
   ],
   "source": [
    "# now to comine under sampling \n",
    "X_combined_sampling, y_combined_sampling = under.fit_resample(X_over, y_over)\n",
    "print(np.unique(y_combined_sampling, return_counts=True))"
   ]
  },
  {
   "cell_type": "code",
   "execution_count": 67,
   "metadata": {},
   "outputs": [
    {
     "name": "stdout",
     "output_type": "stream",
     "text": [
      "Wall time: 15.1 s\n",
      "              precision    recall  f1-score   support\n",
      "\n",
      "           0       0.99      1.00      1.00     23079\n",
      "           1       0.23      0.02      0.04       139\n",
      "\n",
      "    accuracy                           0.99     23218\n",
      "   macro avg       0.61      0.51      0.52     23218\n",
      "weighted avg       0.99      0.99      0.99     23218\n",
      "\n"
     ]
    }
   ],
   "source": [
    "#Random Forest\n",
    "RF_over_under = RandomForestClassifier(class_weight='balanced', random_state=42)\n",
    "%time RF_over_under.fit(X_combined_sampling, y_combined_sampling)\n",
    "RF_predict = RF_over_under.predict(X_test)\n",
    "print(classification_report(y_test, RF_predict))\n",
    "\n",
    "plt.figure(figsize=(3, 3))\n",
    "sn.heatmap(confusion_matrix(y_test,RF_undernm_predict), cbar=False, annot=True, cmap='Wistia', fmt ='d',annot_kws={\"size\": 16})"
   ]
  },
  {
   "cell_type": "code",
   "execution_count": null,
   "metadata": {},
   "outputs": [],
   "source": [
    "def tunning_hybrid_Sampling(X_train, y_train, X_test, y_test, clf):\n",
    "    \n",
    "    o_list =[]\n",
    "    u_list = []\n",
    "    \n",
    "    for o in np.arange(0.1, 1, 0.1).tolist():\n",
    "        for u in np.arange(0.1, 1, 0.1).tolist():\n",
    "    \n",
    "    over = RandomOverSampler(sampling_strategy=0.7)\n",
    "    under = RandomUnderSampler(sampling_strategy=0.7)# first performing oversampling to minority class\n",
    "    X_over, y_over = over.fit_resample(X_train, y_train)\n",
    "    X_combined_sampling, y_combined_sampling = under.fit_resample(X_over, y_over)\n",
    "    \n",
    "    RF_over_under.fit(X_combined_sampling, y_combined_sampling)\n",
    "    RF_predict = RF_over_under.predict(X_test)\n",
    "    \n",
    "    for i np.arange(0.1, 1, 0.1).tolist()\n",
    "    \n",
    "    y_pred = clf.predict(X_test)\n",
    "    \n",
    "    tn, fp, fn, tp = confusion_matrix(y_test, y_pred).ravel()\n",
    "    accuracy       = accuracy_score(y_test, y_pred)\n",
    "    f1             = f1_score(y_test, y_pred)\n",
    "    recall         = recall_score(y_test, y_pred)\n",
    "    precision      = precision_score(y_test, y_pred)\n",
    "    roc_auc        = roc_auc_score(y_test, y_pred)\n",
    "    \n",
    "    df = pd.DataFrame({\"Method\"    : [name],\n",
    "                       \"Neg\"       : [tn + fn],\n",
    "                       \"True Neg\"  : [tn],\n",
    "                       \"False Neg\" : [fn],\n",
    "                       \"Pos\"       : [tp + fp],\n",
    "                       \"TP\"        : [tp],\n",
    "                       \"FP\"        : [fp],\n",
    "                       \"Accuracy\"  : [accuracy],\n",
    "                       \"Recall\"    : [recall],\n",
    "                       \"Precision\" : [precision],\n",
    "                       \"F1\"        : [f1],\n",
    "                       \"AUC\"       : [roc_auc],\n",
    "                      })"
   ]
  },
  {
   "cell_type": "code",
   "execution_count": 72,
   "metadata": {},
   "outputs": [
    {
     "data": {
      "text/plain": [
       "[0.1, 0.2, 0.30000000000000004, 0.4, 0.5, 0.6, 0.7000000000000001, 0.8, 0.9]"
      ]
     },
     "execution_count": 72,
     "metadata": {},
     "output_type": "execute_result"
    }
   ],
   "source": [
    "np.arange(0.1, 1, 0.1).tolist()"
   ]
  },
  {
   "cell_type": "code",
   "execution_count": null,
   "metadata": {},
   "outputs": [],
   "source": []
  },
  {
   "cell_type": "code",
   "execution_count": 68,
   "metadata": {},
   "outputs": [
    {
     "name": "stdout",
     "output_type": "stream",
     "text": [
      "                          Method    Neg  True Neg  False Neg  Pos  TP  FP  \\\n",
      "0  Random Forest Hybird-Sampling  23205     23069        136   13   3  10   \n",
      "\n",
      "   Accuracy    Recall  Precision        F1       AUC  \n",
      "0  0.993712  0.021583   0.230769  0.039474  0.510575  \n"
     ]
    }
   ],
   "source": [
    "evals.append(quick_evaluate(RF_over_under, X_test, y_test, \"Random Forest Hybird-Sampling\"))"
   ]
  },
  {
   "cell_type": "markdown",
   "metadata": {},
   "source": [
    "## TRY Penalize Algorithm \n",
    "\n",
    "A popular algorithm for this technique is Penalized-SVM."
   ]
  },
  {
   "cell_type": "code",
   "execution_count": 70,
   "metadata": {},
   "outputs": [
    {
     "ename": "KeyboardInterrupt",
     "evalue": "",
     "output_type": "error",
     "traceback": [
      "\u001b[1;31m---------------------------------------------------------------------------\u001b[0m",
      "\u001b[1;31mKeyboardInterrupt\u001b[0m                         Traceback (most recent call last)",
      "\u001b[1;32m<ipython-input-70-b94039bd6340>\u001b[0m in \u001b[0;36m<module>\u001b[1;34m\u001b[0m\n\u001b[0;32m      5\u001b[0m \u001b[0msvc_model\u001b[0m \u001b[1;33m=\u001b[0m \u001b[0mSVC\u001b[0m\u001b[1;33m(\u001b[0m\u001b[0mclass_weight\u001b[0m\u001b[1;33m=\u001b[0m\u001b[1;34m'balanced'\u001b[0m\u001b[1;33m,\u001b[0m \u001b[0mprobability\u001b[0m\u001b[1;33m=\u001b[0m\u001b[1;32mTrue\u001b[0m\u001b[1;33m)\u001b[0m\u001b[1;33m\u001b[0m\u001b[1;33m\u001b[0m\u001b[0m\n\u001b[0;32m      6\u001b[0m \u001b[1;33m\u001b[0m\u001b[0m\n\u001b[1;32m----> 7\u001b[1;33m \u001b[0msvc_model\u001b[0m\u001b[1;33m.\u001b[0m\u001b[0mfit\u001b[0m\u001b[1;33m(\u001b[0m\u001b[0mX_train\u001b[0m\u001b[1;33m,\u001b[0m \u001b[0my_train\u001b[0m\u001b[1;33m)\u001b[0m\u001b[1;33m\u001b[0m\u001b[1;33m\u001b[0m\u001b[0m\n\u001b[0m\u001b[0;32m      8\u001b[0m \u001b[1;33m\u001b[0m\u001b[0m\n\u001b[0;32m      9\u001b[0m \u001b[0msvc_predict\u001b[0m \u001b[1;33m=\u001b[0m \u001b[0msvc_model\u001b[0m\u001b[1;33m.\u001b[0m\u001b[0mpredict\u001b[0m\u001b[1;33m(\u001b[0m\u001b[0mx_test\u001b[0m\u001b[1;33m)\u001b[0m\u001b[1;31m# check performance\u001b[0m\u001b[1;33m\u001b[0m\u001b[1;33m\u001b[0m\u001b[0m\n",
      "\u001b[1;32m~\\anaconda3\\lib\\site-packages\\sklearn\\svm\\_base.py\u001b[0m in \u001b[0;36mfit\u001b[1;34m(self, X, y, sample_weight)\u001b[0m\n\u001b[0;32m    215\u001b[0m \u001b[1;33m\u001b[0m\u001b[0m\n\u001b[0;32m    216\u001b[0m         \u001b[0mseed\u001b[0m \u001b[1;33m=\u001b[0m \u001b[0mrnd\u001b[0m\u001b[1;33m.\u001b[0m\u001b[0mrandint\u001b[0m\u001b[1;33m(\u001b[0m\u001b[0mnp\u001b[0m\u001b[1;33m.\u001b[0m\u001b[0miinfo\u001b[0m\u001b[1;33m(\u001b[0m\u001b[1;34m'i'\u001b[0m\u001b[1;33m)\u001b[0m\u001b[1;33m.\u001b[0m\u001b[0mmax\u001b[0m\u001b[1;33m)\u001b[0m\u001b[1;33m\u001b[0m\u001b[1;33m\u001b[0m\u001b[0m\n\u001b[1;32m--> 217\u001b[1;33m         \u001b[0mfit\u001b[0m\u001b[1;33m(\u001b[0m\u001b[0mX\u001b[0m\u001b[1;33m,\u001b[0m \u001b[0my\u001b[0m\u001b[1;33m,\u001b[0m \u001b[0msample_weight\u001b[0m\u001b[1;33m,\u001b[0m \u001b[0msolver_type\u001b[0m\u001b[1;33m,\u001b[0m \u001b[0mkernel\u001b[0m\u001b[1;33m,\u001b[0m \u001b[0mrandom_seed\u001b[0m\u001b[1;33m=\u001b[0m\u001b[0mseed\u001b[0m\u001b[1;33m)\u001b[0m\u001b[1;33m\u001b[0m\u001b[1;33m\u001b[0m\u001b[0m\n\u001b[0m\u001b[0;32m    218\u001b[0m         \u001b[1;31m# see comment on the other call to np.iinfo in this file\u001b[0m\u001b[1;33m\u001b[0m\u001b[1;33m\u001b[0m\u001b[1;33m\u001b[0m\u001b[0m\n\u001b[0;32m    219\u001b[0m \u001b[1;33m\u001b[0m\u001b[0m\n",
      "\u001b[1;32m~\\anaconda3\\lib\\site-packages\\sklearn\\svm\\_base.py\u001b[0m in \u001b[0;36m_dense_fit\u001b[1;34m(self, X, y, sample_weight, solver_type, kernel, random_seed)\u001b[0m\n\u001b[0;32m    274\u001b[0m                 \u001b[0mcache_size\u001b[0m\u001b[1;33m=\u001b[0m\u001b[0mself\u001b[0m\u001b[1;33m.\u001b[0m\u001b[0mcache_size\u001b[0m\u001b[1;33m,\u001b[0m \u001b[0mcoef0\u001b[0m\u001b[1;33m=\u001b[0m\u001b[0mself\u001b[0m\u001b[1;33m.\u001b[0m\u001b[0mcoef0\u001b[0m\u001b[1;33m,\u001b[0m\u001b[1;33m\u001b[0m\u001b[1;33m\u001b[0m\u001b[0m\n\u001b[0;32m    275\u001b[0m                 \u001b[0mgamma\u001b[0m\u001b[1;33m=\u001b[0m\u001b[0mself\u001b[0m\u001b[1;33m.\u001b[0m\u001b[0m_gamma\u001b[0m\u001b[1;33m,\u001b[0m \u001b[0mepsilon\u001b[0m\u001b[1;33m=\u001b[0m\u001b[0mself\u001b[0m\u001b[1;33m.\u001b[0m\u001b[0mepsilon\u001b[0m\u001b[1;33m,\u001b[0m\u001b[1;33m\u001b[0m\u001b[1;33m\u001b[0m\u001b[0m\n\u001b[1;32m--> 276\u001b[1;33m                 max_iter=self.max_iter, random_seed=random_seed)\n\u001b[0m\u001b[0;32m    277\u001b[0m \u001b[1;33m\u001b[0m\u001b[0m\n\u001b[0;32m    278\u001b[0m         \u001b[0mself\u001b[0m\u001b[1;33m.\u001b[0m\u001b[0m_warn_from_fit_status\u001b[0m\u001b[1;33m(\u001b[0m\u001b[1;33m)\u001b[0m\u001b[1;33m\u001b[0m\u001b[1;33m\u001b[0m\u001b[0m\n",
      "\u001b[1;31mKeyboardInterrupt\u001b[0m: "
     ]
    }
   ],
   "source": [
    "# load library\n",
    "from sklearn.svm import SVC\n",
    "\n",
    "# we can add class_weight='balanced' to add panalize mistake\n",
    "svc_model = SVC(class_weight='balanced', probability=True)\n",
    "%time svc_model.fit(X_train, y_train)\n",
    "svc_predict = svc_model.predict(x_test)# check performance"
   ]
  },
  {
   "cell_type": "code",
   "execution_count": null,
   "metadata": {},
   "outputs": [],
   "source": [
    "print(classification_report(y_test, svc_predict))\n",
    "plt.figure(figsize=(3, 3))\n",
    "sn.heatmap(confusion_matrix(y_test,svc_predict), cbar=False, annot=True, cmap='Wistia', fmt ='d',annot_kws={\"size\": 16})"
   ]
  },
  {
   "cell_type": "markdown",
   "metadata": {},
   "source": [
    "## Algorithm Comparison"
   ]
  },
  {
   "cell_type": "code",
   "execution_count": 57,
   "metadata": {},
   "outputs": [
    {
     "data": {
      "image/png": "[encoded data removed]",
      "text/plain": [
       "<Figure size 1000x600 with 1 Axes>"
      ]
     },
     "metadata": {},
     "output_type": "display_data"
    }
   ],
   "source": [
    "# Print Comparative ROC Curves for Each Model (Training)w/ AUC Score\n",
    "from sklearn.metrics import roc_curve, auc, confusion_matrix\n",
    "plt.style.use('default');\n",
    "figure = plt.figure(figsize=(10, 6));    \n",
    "ax = plt.subplot(1, 1, 1);\n",
    "plot_roc(RF_Baseline, X_test, y_test, \"Random Forest No Sampling\", ax)\n",
    "plot_roc(RF_over, X_test, y_test, \"Random Forest Imbalance OverSampling\", ax)\n",
    "plot_roc(RF_under, X_test, y_test, \"Random Forest Imbalance UnderSampling\", ax)\n",
    "plot_roc(RF_smt, X_test, y_test, \"Random Forest SMOTE OverSampling\", ax)\n",
    "plot_roc(RF_over_under, X_test, y_test, \"Random Forest Hybird Sampling\", ax)\n",
    "plt.legend(loc='lower right', fontsize=18);\n",
    "plt.tight_layout();"
   ]
  },
  {
   "cell_type": "code",
   "execution_count": 60,
   "metadata": {},
   "outputs": [
    {
     "data": {
      "text/html": [
       "<div>\n",
       "<style scoped>\n",
       "    .dataframe tbody tr th:only-of-type {\n",
       "        vertical-align: middle;\n",
       "    }\n",
       "\n",
       "    .dataframe tbody tr th {\n",
       "        vertical-align: top;\n",
       "    }\n",
       "\n",
       "    .dataframe thead th {\n",
       "        text-align: right;\n",
       "    }\n",
       "</style>\n",
       "<table border=\"1\" class=\"dataframe\">\n",
       "  <thead>\n",
       "    <tr style=\"text-align: right;\">\n",
       "      <th></th>\n",
       "      <th>Method</th>\n",
       "      <th>Neg</th>\n",
       "      <th>True Neg</th>\n",
       "      <th>False Neg</th>\n",
       "      <th>Pos</th>\n",
       "      <th>TP</th>\n",
       "      <th>FP</th>\n",
       "      <th>Accuracy</th>\n",
       "      <th>Recall</th>\n",
       "      <th>Precision</th>\n",
       "      <th>F1</th>\n",
       "      <th>AUC</th>\n",
       "    </tr>\n",
       "  </thead>\n",
       "  <tbody>\n",
       "    <tr>\n",
       "      <th>6</th>\n",
       "      <td>Random Forest Hybird-Sampling</td>\n",
       "      <td>23066</td>\n",
       "      <td>23066</td>\n",
       "      <td>0</td>\n",
       "      <td>152</td>\n",
       "      <td>139</td>\n",
       "      <td>13</td>\n",
       "      <td>0.999440</td>\n",
       "      <td>1.000000</td>\n",
       "      <td>0.914474</td>\n",
       "      <td>0.955326</td>\n",
       "      <td>0.999718</td>\n",
       "    </tr>\n",
       "    <tr>\n",
       "      <th>4</th>\n",
       "      <td>Random Forest ADASYN-OverSampling</td>\n",
       "      <td>22881</td>\n",
       "      <td>22786</td>\n",
       "      <td>95</td>\n",
       "      <td>337</td>\n",
       "      <td>44</td>\n",
       "      <td>293</td>\n",
       "      <td>0.983289</td>\n",
       "      <td>0.316547</td>\n",
       "      <td>0.130564</td>\n",
       "      <td>0.184874</td>\n",
       "      <td>0.651926</td>\n",
       "    </tr>\n",
       "    <tr>\n",
       "      <th>3</th>\n",
       "      <td>Random Forest SMOTE-OverSampling</td>\n",
       "      <td>22883</td>\n",
       "      <td>22785</td>\n",
       "      <td>98</td>\n",
       "      <td>335</td>\n",
       "      <td>41</td>\n",
       "      <td>294</td>\n",
       "      <td>0.983117</td>\n",
       "      <td>0.294964</td>\n",
       "      <td>0.122388</td>\n",
       "      <td>0.172996</td>\n",
       "      <td>0.641113</td>\n",
       "    </tr>\n",
       "    <tr>\n",
       "      <th>7</th>\n",
       "      <td>Random Forest Hybird-Sampling</td>\n",
       "      <td>23192</td>\n",
       "      <td>23060</td>\n",
       "      <td>132</td>\n",
       "      <td>26</td>\n",
       "      <td>7</td>\n",
       "      <td>19</td>\n",
       "      <td>0.993496</td>\n",
       "      <td>0.050360</td>\n",
       "      <td>0.269231</td>\n",
       "      <td>0.084848</td>\n",
       "      <td>0.524768</td>\n",
       "    </tr>\n",
       "    <tr>\n",
       "      <th>8</th>\n",
       "      <td>Random Forest Hybird-Sampling</td>\n",
       "      <td>23192</td>\n",
       "      <td>23060</td>\n",
       "      <td>132</td>\n",
       "      <td>26</td>\n",
       "      <td>7</td>\n",
       "      <td>19</td>\n",
       "      <td>0.993496</td>\n",
       "      <td>0.050360</td>\n",
       "      <td>0.269231</td>\n",
       "      <td>0.084848</td>\n",
       "      <td>0.524768</td>\n",
       "    </tr>\n",
       "    <tr>\n",
       "      <th>5</th>\n",
       "      <td>Random Forest Imblearn-UnderSampling</td>\n",
       "      <td>19271</td>\n",
       "      <td>19255</td>\n",
       "      <td>16</td>\n",
       "      <td>3947</td>\n",
       "      <td>123</td>\n",
       "      <td>3824</td>\n",
       "      <td>0.834611</td>\n",
       "      <td>0.884892</td>\n",
       "      <td>0.031163</td>\n",
       "      <td>0.060206</td>\n",
       "      <td>0.859600</td>\n",
       "    </tr>\n",
       "    <tr>\n",
       "      <th>1</th>\n",
       "      <td>Random Forest Balanced-Weight</td>\n",
       "      <td>23213</td>\n",
       "      <td>23076</td>\n",
       "      <td>137</td>\n",
       "      <td>5</td>\n",
       "      <td>2</td>\n",
       "      <td>3</td>\n",
       "      <td>0.993970</td>\n",
       "      <td>0.014388</td>\n",
       "      <td>0.400000</td>\n",
       "      <td>0.027778</td>\n",
       "      <td>0.507129</td>\n",
       "    </tr>\n",
       "    <tr>\n",
       "      <th>2</th>\n",
       "      <td>Random Forest Imblearn-OverSampling</td>\n",
       "      <td>23206</td>\n",
       "      <td>23069</td>\n",
       "      <td>137</td>\n",
       "      <td>12</td>\n",
       "      <td>2</td>\n",
       "      <td>10</td>\n",
       "      <td>0.993669</td>\n",
       "      <td>0.014388</td>\n",
       "      <td>0.166667</td>\n",
       "      <td>0.026490</td>\n",
       "      <td>0.506978</td>\n",
       "    </tr>\n",
       "    <tr>\n",
       "      <th>0</th>\n",
       "      <td>Random Forest Baseline</td>\n",
       "      <td>23217</td>\n",
       "      <td>23079</td>\n",
       "      <td>138</td>\n",
       "      <td>1</td>\n",
       "      <td>1</td>\n",
       "      <td>0</td>\n",
       "      <td>0.994056</td>\n",
       "      <td>0.007194</td>\n",
       "      <td>1.000000</td>\n",
       "      <td>0.014286</td>\n",
       "      <td>0.503597</td>\n",
       "    </tr>\n",
       "  </tbody>\n",
       "</table>\n",
       "</div>"
      ],
      "text/plain": [
       "                                 Method    Neg  True Neg  False Neg   Pos  \\\n",
       "6         Random Forest Hybird-Sampling  23066     23066          0   152   \n",
       "4     Random Forest ADASYN-OverSampling  22881     22786         95   337   \n",
       "3      Random Forest SMOTE-OverSampling  22883     22785         98   335   \n",
       "7         Random Forest Hybird-Sampling  23192     23060        132    26   \n",
       "8         Random Forest Hybird-Sampling  23192     23060        132    26   \n",
       "5  Random Forest Imblearn-UnderSampling  19271     19255         16  3947   \n",
       "1         Random Forest Balanced-Weight  23213     23076        137     5   \n",
       "2   Random Forest Imblearn-OverSampling  23206     23069        137    12   \n",
       "0                Random Forest Baseline  23217     23079        138     1   \n",
       "\n",
       "    TP    FP  Accuracy    Recall  Precision        F1       AUC  \n",
       "6  139    13  0.999440  1.000000   0.914474  0.955326  0.999718  \n",
       "4   44   293  0.983289  0.316547   0.130564  0.184874  0.651926  \n",
       "3   41   294  0.983117  0.294964   0.122388  0.172996  0.641113  \n",
       "7    7    19  0.993496  0.050360   0.269231  0.084848  0.524768  \n",
       "8    7    19  0.993496  0.050360   0.269231  0.084848  0.524768  \n",
       "5  123  3824  0.834611  0.884892   0.031163  0.060206  0.859600  \n",
       "1    2     3  0.993970  0.014388   0.400000  0.027778  0.507129  \n",
       "2    2    10  0.993669  0.014388   0.166667  0.026490  0.506978  \n",
       "0    1     0  0.994056  0.007194   1.000000  0.014286  0.503597  "
      ]
     },
     "execution_count": 60,
     "metadata": {},
     "output_type": "execute_result"
    }
   ],
   "source": [
    "# Recall the actual distrition of the truth labels of the testing set.\n",
    "evals_all = pd.concat([m for m in evals], axis = 0).reset_index()\n",
    "evals_all = evals_all.drop(columns = \"index\",axis =1)\n",
    "evals_all.sort_values(by=['F1'], ascending=False)"
   ]
  },
  {
   "cell_type": "code",
   "execution_count": null,
   "metadata": {},
   "outputs": [],
   "source": []
  }
 ],
 "metadata": {
  "colab": {
   "authorship_tag": "ABX9TyMuKrHvIUZilgD9e8Y1xWbT",
   "collapsed_sections": [
    "BjjZFYqUaonM",
    "FSWKFVdIauPD",
    "dUm08Xq-ayc7",
    "_106vAa3a7k_"
   ],
   "name": "MMAI 823 Assignment 2 Bankruptcy.ipynb",
   "provenance": [],
   "toc_visible": true
  },
  "kernelspec": {
   "display_name": "Python 3",
   "language": "python",
   "name": "python3"
  },
  "language_info": {
   "codemirror_mode": {
    "name": "ipython",
    "version": 3
   },
   "file_extension": ".py",
   "mimetype": "text/x-python",
   "name": "python",
   "nbconvert_exporter": "python",
   "pygments_lexer": "ipython3",
   "version": "3.7.6"
  }
 },
 "nbformat": 4,
 "nbformat_minor": 1
}
