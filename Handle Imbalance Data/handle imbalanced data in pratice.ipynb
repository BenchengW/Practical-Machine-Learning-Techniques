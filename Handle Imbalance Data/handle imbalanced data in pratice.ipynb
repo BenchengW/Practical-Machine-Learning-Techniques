{
 "cells": [
  {
   "cell_type": "markdown",
   "metadata": {},
   "source": [
    "# Import Python Packages"
   ]
  },
  {
   "cell_type": "code",
   "execution_count": 3,
   "metadata": {
    "id": "_oPiAg_VJe4L"
   },
   "outputs": [],
   "source": [
    "import pandas as pd\n",
    "import numpy as np\n",
    "\n",
    "import matplotlib.pyplot as plt\n",
    "import seaborn as sn\n",
    "\n",
    "from sklearn.ensemble import RandomForestClassifier\n",
    "\n",
    "from sklearn.model_selection import train_test_split\n",
    "from sklearn.metrics import classification_report, confusion_matrix, accuracy_score\n",
    "\n",
    "from imblearn.over_sampling import RandomOverSampler, SMOTE\n",
    "\n"
   ]
  },
  {
   "cell_type": "markdown",
   "metadata": {
    "id": "BjjZFYqUaonM"
   },
   "source": [
    "### Load Data"
   ]
  },
  {
   "cell_type": "code",
   "execution_count": 4,
   "metadata": {
    "id": "9PgxOORLKsVT"
   },
   "outputs": [],
   "source": [
    "bk_data = pd.read_excel(\"Bankruptcy_data_Final.xlsx\")\n",
    "#Replace NAN with 0\n",
    "bk_data = bk_data.fillna(0)\n",
    "bk_data.head()"
   ]
  },
  {
   "cell_type": "code",
   "execution_count": 9,
   "metadata": {
    "colab": {
     "base_uri": "https://localhost:8080/"
    },
    "executionInfo": {
     "elapsed": 20,
     "status": "ok",
     "timestamp": 1622861243072,
     "user": {
      "displayName": "Jason Li",
      "photoUrl": "https://lh3.googleusercontent.com/-MXuDo0MvoGw/AAAAAAAAAAI/AAAAAAAAAGI/xypEP-pcHVg/s64/photo.jpg",
      "userId": "04045095967198645117"
     },
     "user_tz": 240
    },
    "id": "QgUhFL_wPfyD",
    "outputId": "cd0d9eff-7ba4-43b7-edf3-c62d42530df1"
   },
   "outputs": [
    {
     "data": {
      "text/plain": [
       "EPS                   float64\n",
       "Liquidity             float64\n",
       "Profitability         float64\n",
       "Productivity          float64\n",
       "Leverage Ratio        float64\n",
       "Asset Turnover        float64\n",
       "Operational Margin    float64\n",
       "Return on Equity      float64\n",
       "Market Book Ratio     float64\n",
       "Assets Growth         float64\n",
       "Sales Growth          float64\n",
       "Employee Growth       float64\n",
       "BK                      int64\n",
       "dtype: object"
      ]
     },
     "execution_count": 9,
     "metadata": {},
     "output_type": "execute_result"
    }
   ],
   "source": [
    "bk_data.dtypes"
   ]
  },
  {
   "cell_type": "code",
   "execution_count": 10,
   "metadata": {
    "colab": {
     "base_uri": "https://localhost:8080/"
    },
    "executionInfo": {
     "elapsed": 19,
     "status": "ok",
     "timestamp": 1622861243073,
     "user": {
      "displayName": "Jason Li",
      "photoUrl": "https://lh3.googleusercontent.com/-MXuDo0MvoGw/AAAAAAAAAAI/AAAAAAAAAGI/xypEP-pcHVg/s64/photo.jpg",
      "userId": "04045095967198645117"
     },
     "user_tz": 240
    },
    "id": "TSlYlAw3Pl_u",
    "outputId": "4fb5746c-e5cb-4825-a36f-6345e2cbd71a"
   },
   "outputs": [
    {
     "data": {
      "text/html": [
       "<div>\n",
       "<style scoped>\n",
       "    .dataframe tbody tr th:only-of-type {\n",
       "        vertical-align: middle;\n",
       "    }\n",
       "\n",
       "    .dataframe tbody tr th {\n",
       "        vertical-align: top;\n",
       "    }\n",
       "\n",
       "    .dataframe thead th {\n",
       "        text-align: right;\n",
       "    }\n",
       "</style>\n",
       "<table border=\"1\" class=\"dataframe\">\n",
       "  <thead>\n",
       "    <tr style=\"text-align: right;\">\n",
       "      <th></th>\n",
       "      <th>count</th>\n",
       "      <th>mean</th>\n",
       "      <th>std</th>\n",
       "      <th>min</th>\n",
       "      <th>25%</th>\n",
       "      <th>50%</th>\n",
       "      <th>75%</th>\n",
       "      <th>max</th>\n",
       "    </tr>\n",
       "  </thead>\n",
       "  <tbody>\n",
       "    <tr>\n",
       "      <th>EPS</th>\n",
       "      <td>92872.0</td>\n",
       "      <td>-14.460577</td>\n",
       "      <td>2195.408189</td>\n",
       "      <td>-3.840000e+05</td>\n",
       "      <td>-0.140000</td>\n",
       "      <td>0.330000</td>\n",
       "      <td>1.530000</td>\n",
       "      <td>55339.00</td>\n",
       "    </tr>\n",
       "    <tr>\n",
       "      <th>Liquidity</th>\n",
       "      <td>92872.0</td>\n",
       "      <td>-2.624239</td>\n",
       "      <td>121.449170</td>\n",
       "      <td>-2.596852e+04</td>\n",
       "      <td>0.020000</td>\n",
       "      <td>0.190000</td>\n",
       "      <td>0.400000</td>\n",
       "      <td>1.00</td>\n",
       "    </tr>\n",
       "    <tr>\n",
       "      <th>Profitability</th>\n",
       "      <td>92872.0</td>\n",
       "      <td>-29.458717</td>\n",
       "      <td>676.331196</td>\n",
       "      <td>-7.968200e+04</td>\n",
       "      <td>-0.630000</td>\n",
       "      <td>0.070000</td>\n",
       "      <td>0.310000</td>\n",
       "      <td>140.58</td>\n",
       "    </tr>\n",
       "    <tr>\n",
       "      <th>Productivity</th>\n",
       "      <td>92872.0</td>\n",
       "      <td>-1.219618</td>\n",
       "      <td>35.837859</td>\n",
       "      <td>-5.093000e+03</td>\n",
       "      <td>-0.060000</td>\n",
       "      <td>0.060000</td>\n",
       "      <td>0.110000</td>\n",
       "      <td>1102.00</td>\n",
       "    </tr>\n",
       "    <tr>\n",
       "      <th>Leverage Ratio</th>\n",
       "      <td>92872.0</td>\n",
       "      <td>1.344940</td>\n",
       "      <td>253.002671</td>\n",
       "      <td>-7.811000e+03</td>\n",
       "      <td>0.000000</td>\n",
       "      <td>0.280000</td>\n",
       "      <td>0.820000</td>\n",
       "      <td>75970.38</td>\n",
       "    </tr>\n",
       "    <tr>\n",
       "      <th>Asset Turnover</th>\n",
       "      <td>92872.0</td>\n",
       "      <td>1.050811</td>\n",
       "      <td>2.113826</td>\n",
       "      <td>-3.159000e+01</td>\n",
       "      <td>0.380000</td>\n",
       "      <td>0.820000</td>\n",
       "      <td>1.380000</td>\n",
       "      <td>276.38</td>\n",
       "    </tr>\n",
       "    <tr>\n",
       "      <th>Operational Margin</th>\n",
       "      <td>92872.0</td>\n",
       "      <td>-7.441862</td>\n",
       "      <td>207.953408</td>\n",
       "      <td>-3.017570e+04</td>\n",
       "      <td>-0.020000</td>\n",
       "      <td>0.060000</td>\n",
       "      <td>0.130000</td>\n",
       "      <td>394.47</td>\n",
       "    </tr>\n",
       "    <tr>\n",
       "      <th>Return on Equity</th>\n",
       "      <td>92872.0</td>\n",
       "      <td>-2.112200</td>\n",
       "      <td>352.581716</td>\n",
       "      <td>-8.887514e+04</td>\n",
       "      <td>-0.080000</td>\n",
       "      <td>0.030000</td>\n",
       "      <td>0.070000</td>\n",
       "      <td>39500.00</td>\n",
       "    </tr>\n",
       "    <tr>\n",
       "      <th>Market Book Ratio</th>\n",
       "      <td>92872.0</td>\n",
       "      <td>358.286233</td>\n",
       "      <td>26055.639928</td>\n",
       "      <td>-3.151500e+06</td>\n",
       "      <td>11.160000</td>\n",
       "      <td>58.170000</td>\n",
       "      <td>240.015000</td>\n",
       "      <td>3455419.33</td>\n",
       "    </tr>\n",
       "    <tr>\n",
       "      <th>Assets Growth</th>\n",
       "      <td>92872.0</td>\n",
       "      <td>1.200704</td>\n",
       "      <td>71.059112</td>\n",
       "      <td>-1.000000e+00</td>\n",
       "      <td>-0.041112</td>\n",
       "      <td>0.037360</td>\n",
       "      <td>0.174523</td>\n",
       "      <td>14231.00</td>\n",
       "    </tr>\n",
       "    <tr>\n",
       "      <th>Sales Growth</th>\n",
       "      <td>92872.0</td>\n",
       "      <td>1.763010</td>\n",
       "      <td>171.104938</td>\n",
       "      <td>-2.743103e+01</td>\n",
       "      <td>-0.021171</td>\n",
       "      <td>0.043752</td>\n",
       "      <td>0.187012</td>\n",
       "      <td>39850.00</td>\n",
       "    </tr>\n",
       "    <tr>\n",
       "      <th>Employee Growth</th>\n",
       "      <td>92872.0</td>\n",
       "      <td>0.317408</td>\n",
       "      <td>13.532874</td>\n",
       "      <td>-1.000000e+00</td>\n",
       "      <td>-0.038836</td>\n",
       "      <td>0.002874</td>\n",
       "      <td>0.115836</td>\n",
       "      <td>2699.00</td>\n",
       "    </tr>\n",
       "    <tr>\n",
       "      <th>BK</th>\n",
       "      <td>92872.0</td>\n",
       "      <td>0.006008</td>\n",
       "      <td>0.077280</td>\n",
       "      <td>0.000000e+00</td>\n",
       "      <td>0.000000</td>\n",
       "      <td>0.000000</td>\n",
       "      <td>0.000000</td>\n",
       "      <td>1.00</td>\n",
       "    </tr>\n",
       "  </tbody>\n",
       "</table>\n",
       "</div>"
      ],
      "text/plain": [
       "                      count        mean           std           min  \\\n",
       "EPS                 92872.0  -14.460577   2195.408189 -3.840000e+05   \n",
       "Liquidity           92872.0   -2.624239    121.449170 -2.596852e+04   \n",
       "Profitability       92872.0  -29.458717    676.331196 -7.968200e+04   \n",
       "Productivity        92872.0   -1.219618     35.837859 -5.093000e+03   \n",
       "Leverage Ratio      92872.0    1.344940    253.002671 -7.811000e+03   \n",
       "Asset Turnover      92872.0    1.050811      2.113826 -3.159000e+01   \n",
       "Operational Margin  92872.0   -7.441862    207.953408 -3.017570e+04   \n",
       "Return on Equity    92872.0   -2.112200    352.581716 -8.887514e+04   \n",
       "Market Book Ratio   92872.0  358.286233  26055.639928 -3.151500e+06   \n",
       "Assets Growth       92872.0    1.200704     71.059112 -1.000000e+00   \n",
       "Sales Growth        92872.0    1.763010    171.104938 -2.743103e+01   \n",
       "Employee Growth     92872.0    0.317408     13.532874 -1.000000e+00   \n",
       "BK                  92872.0    0.006008      0.077280  0.000000e+00   \n",
       "\n",
       "                          25%        50%         75%         max  \n",
       "EPS                 -0.140000   0.330000    1.530000    55339.00  \n",
       "Liquidity            0.020000   0.190000    0.400000        1.00  \n",
       "Profitability       -0.630000   0.070000    0.310000      140.58  \n",
       "Productivity        -0.060000   0.060000    0.110000     1102.00  \n",
       "Leverage Ratio       0.000000   0.280000    0.820000    75970.38  \n",
       "Asset Turnover       0.380000   0.820000    1.380000      276.38  \n",
       "Operational Margin  -0.020000   0.060000    0.130000      394.47  \n",
       "Return on Equity    -0.080000   0.030000    0.070000    39500.00  \n",
       "Market Book Ratio   11.160000  58.170000  240.015000  3455419.33  \n",
       "Assets Growth       -0.041112   0.037360    0.174523    14231.00  \n",
       "Sales Growth        -0.021171   0.043752    0.187012    39850.00  \n",
       "Employee Growth     -0.038836   0.002874    0.115836     2699.00  \n",
       "BK                   0.000000   0.000000    0.000000        1.00  "
      ]
     },
     "execution_count": 10,
     "metadata": {},
     "output_type": "execute_result"
    }
   ],
   "source": [
    "bk_data.describe().T"
   ]
  },
  {
   "cell_type": "markdown",
   "metadata": {
    "id": "FSWKFVdIauPD"
   },
   "source": [
    "#### Add Altman Z Score to improve prediction\n",
    "\n",
    "What is Altman Z Score: https://www.investopedia.com/terms/a/altman.asp"
   ]
  },
  {
   "cell_type": "code",
   "execution_count": 11,
   "metadata": {
    "colab": {
     "base_uri": "https://localhost:8080/"
    },
    "executionInfo": {
     "elapsed": 242,
     "status": "ok",
     "timestamp": 1622851547851,
     "user": {
      "displayName": "Jason Li",
      "photoUrl": "https://lh3.googleusercontent.com/-MXuDo0MvoGw/AAAAAAAAAAI/AAAAAAAAAGI/xypEP-pcHVg/s64/photo.jpg",
      "userId": "04045095967198645117"
     },
     "user_tz": 240
    },
    "id": "0milncgAWNxf",
    "outputId": "cbc50be2-76b5-418d-94b3-e731d37d6271"
   },
   "outputs": [
    {
     "data": {
      "text/plain": [
       "0        2.650128\n",
       "1        2.444015\n",
       "2        2.396524\n",
       "3        2.404000\n",
       "4        4.564000\n",
       "           ...   \n",
       "92867   -0.014247\n",
       "92868   -0.316303\n",
       "92869    0.787640\n",
       "92870    1.243237\n",
       "92871    0.609870\n",
       "Length: 92872, dtype: float64"
      ]
     },
     "execution_count": 11,
     "metadata": {},
     "output_type": "execute_result"
    }
   ],
   "source": [
    "# Altman Z Score\n",
    "bk_data['Altman Z Score'] = 1.2*bk_data['Liquidity'] + 1.4*bk_data['Profitability'] \n",
    "+ 3.3*bk_data['Productivity'] + 0.6/bk_data['Leverage Ratio'] + bk_data['Asset Turnover']"
   ]
  },
  {
   "cell_type": "code",
   "execution_count": 58,
   "metadata": {
    "id": "ZjKo3YZ1ENZ9"
   },
   "outputs": [
    {
     "data": {
      "text/plain": [
       "<matplotlib.axes._subplots.AxesSubplot at 0x1ae00a8d588>"
      ]
     },
     "execution_count": 58,
     "metadata": {},
     "output_type": "execute_result"
    },
    {
     "data": {
      "image/png": "[encoded data removed]",
      "text/plain": [
       "<Figure size 600x400 with 2 Axes>"
      ]
     },
     "metadata": {},
     "output_type": "display_data"
    }
   ],
   "source": [
    "corr = bk_data.drop('BK',axis=1).corr()\n",
    "plt.figure(figsize=(6,4))\n",
    "sn.heatmap(corr)"
   ]
  },
  {
   "cell_type": "markdown",
   "metadata": {
    "id": "dUm08Xq-ayc7"
   },
   "source": [
    "### Train Test Split"
   ]
  },
  {
   "cell_type": "code",
   "execution_count": 59,
   "metadata": {
    "id": "Pdv91rlgPwPm"
   },
   "outputs": [],
   "source": [
    "X = bk_data.drop('BK', axis=1)\n",
    "y = bk_data['BK']\n",
    "X_train, X_test, y_train,  y_test = train_test_split(X, y, random_state=42)"
   ]
  },
  {
   "cell_type": "code",
   "execution_count": 60,
   "metadata": {
    "colab": {
     "base_uri": "https://localhost:8080/"
    },
    "executionInfo": {
     "elapsed": 18,
     "status": "ok",
     "timestamp": 1622861243075,
     "user": {
      "displayName": "Jason Li",
      "photoUrl": "https://lh3.googleusercontent.com/-MXuDo0MvoGw/AAAAAAAAAAI/AAAAAAAAAGI/xypEP-pcHVg/s64/photo.jpg",
      "userId": "04045095967198645117"
     },
     "user_tz": 240
    },
    "id": "7BLWfyUmSs5g",
    "outputId": "f8165c56-8828-45ed-8f80-14c19aad2a16"
   },
   "outputs": [
    {
     "name": "stdout",
     "output_type": "stream",
     "text": [
      "(69654, 13)\n",
      "(23218, 13)\n",
      "(array([0, 1], dtype=int64), array([69235,   419], dtype=int64))\n",
      "(array([0, 1], dtype=int64), array([23079,   139], dtype=int64))\n"
     ]
    }
   ],
   "source": [
    "print(X_train.shape)\n",
    "print(X_test.shape)\n",
    "print(np.unique(y_train, return_counts=True))\n",
    "print(np.unique(y_test, return_counts=True))"
   ]
  },
  {
   "cell_type": "markdown",
   "metadata": {},
   "source": [
    "### Baseline Random Forest before under/over Sampling"
   ]
  },
  {
   "cell_type": "code",
   "execution_count": 65,
   "metadata": {},
   "outputs": [
    {
     "name": "stdout",
     "output_type": "stream",
     "text": [
      "Wall time: 8.15 s\n",
      "              precision    recall  f1-score   support\n",
      "\n",
      "           0       0.99      1.00      1.00     23079\n",
      "           1       0.40      0.01      0.03       139\n",
      "\n",
      "    accuracy                           0.99     23218\n",
      "   macro avg       0.70      0.51      0.51     23218\n",
      "weighted avg       0.99      0.99      0.99     23218\n",
      "\n"
     ]
    }
   ],
   "source": [
    "RF_Baseline = RandomForestClassifier(class_weight='balanced', random_state=42)\n",
    "%time RF_Baseline.fit(X_train, y_train)\n",
    "RF_Baseline_predict = RF_Baseline.predict(X_test)\n",
    "print(classification_report(y_test, RF_Baseline_predict))\n",
    "sn.heatmap(confusion_matrix(y_test,RF_Baseline_predict), cbar=False, annot=True, cmap='Wistia', fmt ='d',annot_kws={\"size\": 6})"
   ]
  },
  {
   "cell_type": "markdown",
   "metadata": {
    "id": "_106vAa3a7k_"
   },
   "source": [
    "### Oversampling with imblearn and SMOTE"
   ]
  },
  {
   "cell_type": "code",
   "execution_count": 80,
   "metadata": {
    "id": "MXAsGs47O7Jp"
   },
   "outputs": [
    {
     "name": "stdout",
     "output_type": "stream",
     "text": [
      "(138470, 13)\n",
      "(138470,)\n",
      "(array([0, 1], dtype=int64), array([69235, 69235], dtype=int64))\n"
     ]
    }
   ],
   "source": [
    "from imblearn.over_sampling import RandomOverSampler\n",
    "#Oversampling\n",
    "oversampler = RandomOverSampler(sampling_strategy='minority', random_state=42)\n",
    "X_train_over, y_train_over = oversampler.fit_resample(X_train, y_train)\n",
    "print(X_train_over.shape)\n",
    "print(y_train_over.shape)\n",
    "print(np.unique(y_train_over, return_counts=True))"
   ]
  },
  {
   "cell_type": "code",
   "execution_count": 82,
   "metadata": {},
   "outputs": [
    {
     "name": "stdout",
     "output_type": "stream",
     "text": [
      "Wall time: 17 s\n",
      "              precision    recall  f1-score   support\n",
      "\n",
      "           0       0.99      1.00      1.00     23079\n",
      "           1       0.17      0.01      0.03       139\n",
      "\n",
      "    accuracy                           0.99     23218\n",
      "   macro avg       0.58      0.51      0.51     23218\n",
      "weighted avg       0.99      0.99      0.99     23218\n",
      "\n"
     ]
    },
    {
     "data": {
      "text/plain": [
       "<matplotlib.axes._subplots.AxesSubplot at 0x1ae006827c8>"
      ]
     },
     "execution_count": 82,
     "metadata": {},
     "output_type": "execute_result"
    },
    {
     "data": {
      "image/png": "[encoded data removed]",
      "text/plain": [
       "<Figure size 300x300 with 1 Axes>"
      ]
     },
     "metadata": {},
     "output_type": "display_data"
    }
   ],
   "source": [
    "RF_over = RandomForestClassifier(class_weight='balanced', random_state=42)\n",
    "%time RF_over.fit(X_train_over, y_train_over)\n",
    "RF_over_predict = RF_over.predict(X_test)\n",
    "print(classification_report(y_test, RF_over_predict))\n",
    "plt.figure(figsize=(3, 3))\n",
    "sn.heatmap(confusion_matrix(y_test,RF_over_predict), cbar=False, annot=True, cmap='Wistia', fmt ='d',annot_kws={\"size\": 16})"
   ]
  },
  {
   "cell_type": "code",
   "execution_count": 74,
   "metadata": {
    "colab": {
     "base_uri": "https://localhost:8080/"
    },
    "executionInfo": {
     "elapsed": 279,
     "status": "ok",
     "timestamp": 1622861243617,
     "user": {
      "displayName": "Jason Li",
      "photoUrl": "https://lh3.googleusercontent.com/-MXuDo0MvoGw/AAAAAAAAAAI/AAAAAAAAAGI/xypEP-pcHVg/s64/photo.jpg",
      "userId": "04045095967198645117"
     },
     "user_tz": 240
    },
    "id": "kp1h_9m6-M4Q",
    "outputId": "e8aaf6d6-81de-40ec-92d0-302c358292ca"
   },
   "outputs": [
    {
     "name": "stdout",
     "output_type": "stream",
     "text": [
      "(138470, 13)\n",
      "(138470,)\n",
      "(array([0, 1], dtype=int64), array([69235, 69235], dtype=int64))\n"
     ]
    }
   ],
   "source": [
    "#SMOTE\n",
    "from imblearn.over_sampling import SMOTE\n",
    "smt = SMOTE(sampling_strategy='minority', random_state=42)\n",
    "X_train_smt, y_train_smt = smt.fit_resample(X_train, y_train)\n",
    "print(X_train_smt.shape)\n",
    "print(y_train_smt.shape)\n",
    "print(np.unique(y_train_smt, return_counts=True))"
   ]
  },
  {
   "cell_type": "code",
   "execution_count": 79,
   "metadata": {},
   "outputs": [
    {
     "name": "stdout",
     "output_type": "stream",
     "text": [
      "              precision    recall  f1-score   support\n",
      "\n",
      "           0       1.00      0.99      0.99     23079\n",
      "           1       0.12      0.29      0.17       139\n",
      "\n",
      "    accuracy                           0.98     23218\n",
      "   macro avg       0.56      0.64      0.58     23218\n",
      "weighted avg       0.99      0.98      0.99     23218\n",
      "\n"
     ]
    },
    {
     "data": {
      "text/plain": [
       "<matplotlib.axes._subplots.AxesSubplot at 0x1ae01bdf608>"
      ]
     },
     "execution_count": 79,
     "metadata": {},
     "output_type": "execute_result"
    },
    {
     "data": {
      "image/png": "[encoded data removed]",
      "text/plain": [
       "<Figure size 300x300 with 1 Axes>"
      ]
     },
     "metadata": {},
     "output_type": "display_data"
    }
   ],
   "source": [
    "RF_smt = RandomForestClassifier(class_weight='balanced', random_state=42)\n",
    "%time RF_smt.fit(X_train_smt, y_train_smt)\n",
    "RF_smt_predict = RF_smt.predict(X_test)\n",
    "print(classification_report(y_test, RF_smt_predict))\n",
    "plt.figure(figsize=(3, 3))\n",
    "sn.heatmap(confusion_matrix(y_test,RF_smt_predict), cbar=False, annot=True, cmap='Wistia', fmt ='d',annot_kws={\"size\": 16})"
   ]
  },
  {
   "cell_type": "code",
   "execution_count": null,
   "metadata": {},
   "outputs": [],
   "source": []
  },
  {
   "cell_type": "code",
   "execution_count": null,
   "metadata": {},
   "outputs": [],
   "source": []
  },
  {
   "cell_type": "code",
   "execution_count": null,
   "metadata": {},
   "outputs": [],
   "source": []
  },
  {
   "cell_type": "code",
   "execution_count": null,
   "metadata": {},
   "outputs": [],
   "source": []
  },
  {
   "cell_type": "code",
   "execution_count": null,
   "metadata": {},
   "outputs": [],
   "source": []
  },
  {
   "cell_type": "code",
   "execution_count": null,
   "metadata": {},
   "outputs": [],
   "source": []
  },
  {
   "cell_type": "code",
   "execution_count": 28,
   "metadata": {},
   "outputs": [],
   "source": [
    "def plot_roc(clf, Xf_test, Yf_test, name, ax, show_thresholds=False):\n",
    "    Yf_pred_rf = clf.predict_proba(Xf_test)[:, 1]\n",
    "    fpr, tpr, thr = roc_curve(Yf_test, Yf_pred_rf)\n",
    "    ax.plot([0, 1], [0, 1], 'k--');\n",
    "    ax.plot(fpr, tpr, label='{}, AUC={:.2f}'.format(name, auc(fpr, tpr)));\n",
    "    ax.scatter(fpr, tpr);\n",
    "    \n",
    "    if show_thresholds:\n",
    "        for i, th in enumerate(thr):\n",
    "            ax.text(x=fpr[i], y=tpr[i], s=\"{:.2f}\".format(th), fontsize=14,\n",
    "            horizontalalignment='left', verticalalignment='top', color='black',\n",
    "            bbox=dict(facecolor='white', edgecolor='black', boxstyle='round,pad=0.1', alpha=0.1));\n",
    "            ax.set_xlabel('False positive rate', fontsize=18);\n",
    "    ax.set_ylabel('True positive rate', fontsize=18);\n",
    "    ax.tick_params(axis='both', which='major', labelsize=18);\n",
    "    ax.grid(True);\n",
    "    ax.set_title('ROC Curve', fontsize=18)"
   ]
  },
  {
   "cell_type": "markdown",
   "metadata": {},
   "source": [
    "## Under-Sampling Imbalanced Date"
   ]
  },
  {
   "cell_type": "code",
   "execution_count": 35,
   "metadata": {},
   "outputs": [],
   "source": [
    "from imblearn.pipeline import Pipeline\n",
    "import matplotlib.pyplot as plt\n",
    "from imblearn.under_sampling import RandomUnderSampler,RandomOverSampler"
   ]
  },
  {
   "cell_type": "code",
   "execution_count": 41,
   "metadata": {},
   "outputs": [],
   "source": [
    "X = bk_data.drop('BK', axis=1)\n",
    "y = bk_data['BK']\n",
    "\n",
    "X_train, X_test, y_train,  y_test = train_test_split(X, y, random_state=42)"
   ]
  },
  {
   "cell_type": "code",
   "execution_count": 42,
   "metadata": {},
   "outputs": [
    {
     "name": "stdout",
     "output_type": "stream",
     "text": [
      "(array([0, 1], dtype=int64), array([419, 419], dtype=int64))\n"
     ]
    }
   ],
   "source": [
    "rus = RandomUnderSampler() \n",
    "# resampling X, y\n",
    "X_rus, y_rus = rus.fit_resample(X_train, y_train)# new class distribution\n",
    "print(np.unique(y_rus, return_counts=True))"
   ]
  },
  {
   "cell_type": "code",
   "execution_count": 43,
   "metadata": {},
   "outputs": [
    {
     "name": "stdout",
     "output_type": "stream",
     "text": [
      "(array([0, 1], dtype=int64), array([69235,   419], dtype=int64))\n"
     ]
    }
   ],
   "source": [
    "print(np.unique(y_train, return_counts=True))"
   ]
  },
  {
   "cell_type": "code",
   "execution_count": 44,
   "metadata": {},
   "outputs": [
    {
     "name": "stdout",
     "output_type": "stream",
     "text": [
      "Wall time: 248 ms\n",
      "              precision    recall  f1-score   support\n",
      "\n",
      "           0       1.00      0.83      0.91     23079\n",
      "           1       0.03      0.87      0.06       139\n",
      "\n",
      "    accuracy                           0.83     23218\n",
      "   macro avg       0.51      0.85      0.48     23218\n",
      "weighted avg       0.99      0.83      0.90     23218\n",
      "\n"
     ]
    }
   ],
   "source": [
    "#Random Forest\n",
    "RF = RandomForestClassifier(class_weight='balanced', random_state=42)\n",
    "%time RF.fit(X_rus, y_rus)\n",
    "RF_predict = RF.predict(X_test)\n",
    "print(classification_report(y_test, RF_predict))"
   ]
  },
  {
   "cell_type": "markdown",
   "metadata": {},
   "source": [
    "# Combining Both Random Sampling Techniques"
   ]
  },
  {
   "cell_type": "code",
   "execution_count": 45,
   "metadata": {},
   "outputs": [
    {
     "name": "stdout",
     "output_type": "stream",
     "text": [
      "(array([0, 1], dtype=int64), array([92314, 46157], dtype=int64))\n"
     ]
    }
   ],
   "source": [
    "# instantiating over and under sampler\n",
    "over = RandomOverSampler(sampling_strategy=0.5)\n",
    "under = RandomUnderSampler(sampling_strategy=0.8)# first performing oversampling to minority class\n",
    "X_over, y_over = over.fit_resample(X, y)\n",
    "print(np.unique(y_over, return_counts=True))"
   ]
  },
  {
   "cell_type": "code",
   "execution_count": 46,
   "metadata": {},
   "outputs": [
    {
     "name": "stdout",
     "output_type": "stream",
     "text": [
      "(array([0, 1], dtype=int64), array([57696, 46157], dtype=int64))\n"
     ]
    }
   ],
   "source": [
    "# now to comine under sampling \n",
    "X_combined_sampling, y_combined_sampling = under.fit_resample(X_over, y_over)\n",
    "print(np.unique(y_combined_sampling, return_counts=True))"
   ]
  },
  {
   "cell_type": "code",
   "execution_count": 52,
   "metadata": {},
   "outputs": [
    {
     "name": "stdout",
     "output_type": "stream",
     "text": [
      "Wall time: 14.2 s\n",
      "              precision    recall  f1-score   support\n",
      "\n",
      "           0       1.00      1.00      1.00     23079\n",
      "           1       0.93      1.00      0.97       139\n",
      "\n",
      "    accuracy                           1.00     23218\n",
      "   macro avg       0.97      1.00      0.98     23218\n",
      "weighted avg       1.00      1.00      1.00     23218\n",
      "\n"
     ]
    }
   ],
   "source": [
    "#Random Forest\n",
    "RF_over_under = RandomForestClassifier(class_weight='balanced', random_state=42)\n",
    "%time RF_over_under.fit(X_combined_sampling, y_combined_sampling)\n",
    "RF_predict = RF_over_under.predict(X_test)\n",
    "print(classification_report(y_test, RF_predict))"
   ]
  },
  {
   "cell_type": "code",
   "execution_count": 56,
   "metadata": {},
   "outputs": [
    {
     "data": {
      "image/png": "[encoded data removed]",
      "text/plain": [
       "<Figure size 1000x600 with 1 Axes>"
      ]
     },
     "metadata": {},
     "output_type": "display_data"
    }
   ],
   "source": [
    "# Print Comparative ROC Curves for Each Model (Training)w/ AUC Score\n",
    "from sklearn.metrics import roc_curve, auc, confusion_matrix\n",
    "plt.style.use('default');\n",
    "figure = plt.figure(figsize=(10, 6));    \n",
    "ax = plt.subplot(1, 1, 1);\n",
    "plot_roc(RF, X_test, y_test, \"LR Test\", ax)\n",
    "# plot_roc(LR_predict, X_test, y_test, \"LR Test\", ax)\n",
    "plot_roc(RF_over_under, X_test, y_test, \"Random Forest Test\", ax)\n",
    "plt.legend(loc='lower right', fontsize=18);\n",
    "plt.tight_layout();"
   ]
  },
  {
   "cell_type": "code",
   "execution_count": null,
   "metadata": {},
   "outputs": [],
   "source": []
  },
  {
   "cell_type": "code",
   "execution_count": null,
   "metadata": {},
   "outputs": [],
   "source": []
  }
 ],
 "metadata": {
  "colab": {
   "authorship_tag": "ABX9TyMuKrHvIUZilgD9e8Y1xWbT",
   "collapsed_sections": [
    "BjjZFYqUaonM",
    "FSWKFVdIauPD",
    "dUm08Xq-ayc7",
    "_106vAa3a7k_"
   ],
   "name": "MMAI 823 Assignment 2 Bankruptcy.ipynb",
   "provenance": [],
   "toc_visible": true
  },
  "kernelspec": {
   "display_name": "Python 3",
   "language": "python",
   "name": "python3"
  },
  "language_info": {
   "codemirror_mode": {
    "name": "ipython",
    "version": 3
   },
   "file_extension": ".py",
   "mimetype": "text/x-python",
   "name": "python",
   "nbconvert_exporter": "python",
   "pygments_lexer": "ipython3",
   "version": "3.7.6"
  }
 },
 "nbformat": 4,
 "nbformat_minor": 1
}
